{
 "cells": [
  {
   "cell_type": "code",
   "execution_count": 14,
   "metadata": {
    "collapsed": false
   },
   "outputs": [
    {
     "name": "stdout",
     "output_type": "stream",
     "text": [
      "2759\n"
     ]
    }
   ],
   "source": [
    "import urllib \n",
    "import json\n",
    "\n",
    "# json_url = 'http://python-data.dr-chuck.net/comments_42.json'\n",
    "\n",
    "#json_url = input(\"Enter location: \")\n",
    "json_url='http://python-data.dr-chuck.net/comments_275343.json'\n",
    "\n",
    "#print(\"Retrieving \", json_url)\n",
    "\n",
    "data = urllib.urlopen(json_url).read().decode('utf-8')\n",
    "#print('Retrieved', len(data), 'characters')\n",
    "\n",
    "info = json.loads(data)\n",
    "\n",
    "sum = 0\n",
    "\n",
    "for comment in info[\"comments\"]:\n",
    "        sum= sum+int(comment[\"count\"])\n",
    "print(sum)\n",
    "        "
   ]
  },
  {
   "cell_type": "code",
   "execution_count": null,
   "metadata": {
    "collapsed": false
   },
   "outputs": [
    {
     "name": "stdout",
     "output_type": "stream",
     "text": [
      "Enter location: Tufts University\n",
      "Retrieving http://python-data.dr-chuck.net/geojson?sensor=false&address=Tufts+University\n",
      "Retrieved 2662 characters\n",
      "{\n",
      "    \"status\": \"OK\", \n",
      "    \"results\": [\n",
      "        {\n",
      "            \"geometry\": {\n",
      "                \"location_type\": \"ROOFTOP\", \n",
      "                \"bounds\": {\n",
      "                    \"northeast\": {\n",
      "                        \"lat\": 42.40407320000001, \n",
      "                        \"lng\": -71.1200588\n",
      "                    }, \n",
      "                    \"southwest\": {\n",
      "                        \"lat\": 42.4032963, \n",
      "                        \"lng\": -71.1209052\n",
      "                    }\n",
      "                }, \n",
      "                \"viewport\": {\n",
      "                    \"northeast\": {\n",
      "                        \"lat\": 42.40503373029151, \n",
      "                        \"lng\": -71.1191330197085\n",
      "                    }, \n",
      "                    \"southwest\": {\n",
      "                        \"lat\": 42.40233576970851, \n",
      "                        \"lng\": -71.1218309802915\n",
      "                    }\n",
      "                }, \n",
      "                \"location\": {\n",
      "                    \"lat\": 42.4036847, \n",
      "                    \"lng\": -71.120482\n",
      "                }\n",
      "            }, \n",
      "            \"formatted_address\": \"South Hall Tufts University, 30 Lower Campus Rd, Somerville, MA 02144, USA\", \n",
      "            \"place_id\": \"ChIJfetcLt5244kRBNrn8dTcoRA\", \n",
      "            \"address_components\": [\n",
      "                {\n",
      "                    \"long_name\": \"South Hall Tufts University\", \n",
      "                    \"types\": [\n",
      "                        \"premise\"\n",
      "                    ], \n",
      "                    \"short_name\": \"South Hall Tufts University\"\n",
      "                }, \n",
      "                {\n",
      "                    \"long_name\": \"30\", \n",
      "                    \"types\": [\n",
      "                        \"street_number\"\n",
      "                    ], \n",
      "                    \"short_name\": \"30\"\n",
      "                }, \n",
      "                {\n",
      "                    \"long_name\": \"Lower Campus Road\", \n",
      "                    \"types\": [\n",
      "                        \"route\"\n",
      "                    ], \n",
      "                    \"short_name\": \"Lower Campus Rd\"\n",
      "                }, \n",
      "                {\n",
      "                    \"long_name\": \"Tufts\", \n",
      "                    \"types\": [\n",
      "                        \"neighborhood\", \n",
      "                        \"political\"\n",
      "                    ], \n",
      "                    \"short_name\": \"Tufts\"\n",
      "                }, \n",
      "                {\n",
      "                    \"long_name\": \"Somerville\", \n",
      "                    \"types\": [\n",
      "                        \"locality\", \n",
      "                        \"political\"\n",
      "                    ], \n",
      "                    \"short_name\": \"Somerville\"\n",
      "                }, \n",
      "                {\n",
      "                    \"long_name\": \"Middlesex County\", \n",
      "                    \"types\": [\n",
      "                        \"administrative_area_level_2\", \n",
      "                        \"political\"\n",
      "                    ], \n",
      "                    \"short_name\": \"Middlesex County\"\n",
      "                }, \n",
      "                {\n",
      "                    \"long_name\": \"Massachusetts\", \n",
      "                    \"types\": [\n",
      "                        \"administrative_area_level_1\", \n",
      "                        \"political\"\n",
      "                    ], \n",
      "                    \"short_name\": \"MA\"\n",
      "                }, \n",
      "                {\n",
      "                    \"long_name\": \"United States\", \n",
      "                    \"types\": [\n",
      "                        \"country\", \n",
      "                        \"political\"\n",
      "                    ], \n",
      "                    \"short_name\": \"US\"\n",
      "                }, \n",
      "                {\n",
      "                    \"long_name\": \"02144\", \n",
      "                    \"types\": [\n",
      "                        \"postal_code\"\n",
      "                    ], \n",
      "                    \"short_name\": \"02144\"\n",
      "                }\n",
      "            ], \n",
      "            \"partial_match\": true, \n",
      "            \"types\": [\n",
      "                \"premise\"\n",
      "            ]\n",
      "        }\n",
      "    ]\n",
      "}\n",
      "lat 42.4036847 lng -71.120482\n",
      "South Hall Tufts University, 30 Lower Campus Rd, Somerville, MA 02144, USA\n",
      "ChIJfetcLt5244kRBNrn8dTcoRA\n"
     ]
    }
   ],
   "source": [
    "import urllib\n",
    "import json\n",
    "\n",
    "# serviceurl = 'http://maps.googleapis.com/maps/api/geocode/json?'\n",
    "serviceurl = 'http://python-data.dr-chuck.net/geojson?'\n",
    "\n",
    "    \n",
    "while True:\n",
    "    address = raw_input('Enter location: ')\n",
    "    if len(address) < 1 : break\n",
    "\n",
    "    url = serviceurl + urllib.urlencode({'sensor':'false', 'address': address})\n",
    "    print 'Retrieving', url\n",
    "    uh = urllib.urlopen(url)\n",
    "    data = uh.read()\n",
    "    print 'Retrieved',len(data),'characters'\n",
    "\n",
    "    try: js = json.loads(str(data))\n",
    "    except: js = None\n",
    "    if 'status' not in js or js['status'] != 'OK':\n",
    "        print '==== Failure To Retrieve ===='\n",
    "        print data\n",
    "        continue\n",
    "\n",
    "    print json.dumps(js, indent=4)\n",
    "\n",
    "    lat = js[\"results\"][0][\"geometry\"][\"location\"][\"lat\"]\n",
    "    lng = js[\"results\"][0][\"geometry\"][\"location\"][\"lng\"]\n",
    "    place_id =js[\"results\"][0][\"place_id\"]\n",
    "    print 'lat',lat,'lng',lng\n",
    "    location = js['results'][0]['formatted_address']\n",
    "    print location\n",
    "    print place_id\n",
    "\n"
   ]
  },
  {
   "cell_type": "code",
   "execution_count": 1,
   "metadata": {
    "collapsed": true
   },
   "outputs": [],
   "source": [
    "data='''<commentinfo><note>This file contains the actual data for your assignment - good luck!</note><comments><comment><name>Roderick</name><count>99</count></comment><comment><name>Swarnalakshmi</name><count>98</count></comment><comment><name>Daksh</name><count>98</count></comment><comment><name>Keilee</name><count>96</count></comment><comment><name>Valentina</name><count>95</count></comment><comment><name>Eireyn</name><count>95</count></comment><comment><name>Lavena</name><count>93</count></comment><comment><name>Soha</name><count>79</count></comment><comment><name>Codi</name><count>77</count></comment><comment><name>Sofian</name><count>77</count></comment><comment><name>Idris</name><count>73</count></comment><comment><name>Maariyah</name><count>72</count></comment><comment><name>Olutobilola</name><count>72</count></comment><comment><name>Tammara</name><count>71</count></comment><comment><name>Evangeline</name><count>69</count></comment><comment><name>Zaya</name><count>68</count></comment><comment><name>Arda</name><count>66</count></comment><comment><name>Cuillin</name><count>64</count></comment><comment><name>Rodrigo</name><count>63</count></comment><comment><name>Wren</name><count>63</count></comment><comment><name>Caoimhe</name><count>58</count></comment><comment><name>Demilee</name><count>56</count></comment><comment><name>Alanah</name><count>55</count></comment><comment><name>Aneilya</name><count>54</count></comment><comment><name>Maleetah</name><count>50</count></comment><comment><name>Harri</name><count>44</count></comment><comment><name>Eshaal</name><count>43</count></comment><comment><name>Joan</name><count>43</count></comment><comment><name>James</name><count>42</count></comment><comment><name>Aneeka</name><count>41</count></comment><comment><name>Lexine</name><count>41</count></comment><comment><name>Heini</name><count>40</count></comment><comment><name>Darius</name><count>36</count></comment><comment><name>Abdalroof</name><count>36</count></comment><comment><name>Kitty</name><count>35</count></comment><comment><name>Eidhan</name><count>34</count></comment><comment><name>Cara</name><count>33</count></comment><comment><name>Ikechukwu</name><count>33</count></comment><comment><name>Dalong</name><count>31</count></comment><comment><name>Dimitri</name><count>24</count></comment><comment><name>Kenzie</name><count>23</count></comment><comment><name>Gracie</name><count>22</count></comment><comment><name>Wilson</name><count>17</count></comment><comment><name>Jed</name><count>13</count></comment><comment><name>Ruth</name><count>10</count></comment><comment><name>Kaitlyn</name><count>6</count></comment><comment><name>Fern</name><count>4</count></comment><comment><name>Habeeb</name><count>3</count></comment><comment><name>Isla</name><count>2</count></comment><comment><name>Hansen</name><count>1</count></comment></comments></commentinfo>'''"
   ]
  },
  {
   "cell_type": "code",
   "execution_count": 2,
   "metadata": {
    "collapsed": false
   },
   "outputs": [
    {
     "name": "stdout",
     "output_type": "stream",
     "text": [
      "2518\n"
     ]
    }
   ],
   "source": [
    "# # %load geoxml.py\n",
    "import urllib\n",
    "import xml.etree.ElementTree as ET\n",
    "\n",
    "# serviceurl = 'http://maps.googleapis.com/maps/api/geocode/xml?'\n",
    "\n",
    "# while True:\n",
    "#     address = raw_input('Enter location: ')\n",
    "#     if len(address) < 1 : break\n",
    "\n",
    "#     url = serviceurl + urllib.urlencode({'sensor':'false', 'address': address})\n",
    "#     print 'Retrieving', url\n",
    "#     uh = urllib.urlopen(url)\n",
    "#     data = uh.read()\n",
    "#     print 'Retrieved',len(data),'characters'\n",
    "#     print data\n",
    "    \n",
    "tree = ET.fromstring(data)\n",
    "results = tree.findall('comments/comment')\n",
    "\n",
    "sum=0\n",
    "\n",
    "for item in results:\n",
    " sum= sum + int(item.find('count').text)\n",
    "print sum\n",
    "    \n",
    "#     lat = results[0].find('geometry').find('location').find('lat').text\n",
    "#     lng = results[0].find('geometry').find('location').find('lng').text\n",
    "#     location = results[0].find('formatted_address').text\n",
    "\n",
    "\n",
    "#     print 'lat',lat,'lng',lng\n",
    "#     print location\n"
   ]
  },
  {
   "cell_type": "code",
   "execution_count": null,
   "metadata": {
    "collapsed": false
   },
   "outputs": [
    {
     "name": "stdout",
     "output_type": "stream",
     "text": [
      "Enter location: http://python-data.dr-chuck.net/comments_275339.xml\n",
      "Retrieving http://maps.googleapis.com/maps/api/geocode/xml?sensor=false&address=http%3A%2F%2Fpython-data.dr-chuck.net%2Fcomments_275339.xml\n",
      "Retrieved 107 characters\n",
      "<?xml version=\"1.0\" encoding=\"UTF-8\"?>\n",
      "<GeocodeResponse>\n",
      " <status>ZERO_RESULTS</status>\n",
      "</GeocodeResponse>\n",
      "\n"
     ]
    }
   ],
   "source": [
    "# %load geoxml.py\n",
    "import urllib\n",
    "import xml.etree.ElementTree as ET\n",
    "\n",
    "serviceurl = 'http://maps.googleapis.com/maps/api/geocode/xml?'\n",
    "\n",
    "while True:\n",
    "    address = raw_input('Enter location: ')\n",
    "    if len(address) < 1 : break\n",
    "\n",
    "    url = serviceurl + urllib.urlencode({'sensor':'false', 'address': address})\n",
    "    print 'Retrieving', url\n",
    "    uh = urllib.urlopen(url)\n",
    "    data = uh.read()\n",
    "    print 'Retrieved',len(data),'characters'\n",
    "    print data\n",
    "    tree = ET.fromstring(data)\n",
    "\n",
    "\n",
    "results = tree.findall('comments/comment')\n",
    "\n",
    "sum=0\n",
    "\n",
    "for item in results:\n",
    " sum= sum + int(item.find('count').text)\n",
    "print sum"
   ]
  },
  {
   "cell_type": "markdown",
   "metadata": {
    "collapsed": true
   },
   "source": [
    "# Scraping HTML Data with BeautifulSoup"
   ]
  },
  {
   "cell_type": "code",
   "execution_count": 20,
   "metadata": {
    "collapsed": false
   },
   "outputs": [
    {
     "name": "stdout",
     "output_type": "stream",
     "text": [
      "Enter - http://python-data.dr-chuck.net/comments_275342.html\n",
      "2627\n"
     ]
    }
   ],
   "source": [
    "# %load urllink2.py\n",
    "# Note - this code must run in Python 2.x and you must download\n",
    "# http://www.pythonlearn.com/code/BeautifulSoup.py\n",
    "# Into the same folder as this program\n",
    "\n",
    "import urllib\n",
    "from BeautifulSoup import *\n",
    "\n",
    "url = raw_input('Enter - ')\n",
    "# url=\"comments_42.html\"\n",
    "html = urllib.urlopen(url).read()\n",
    "\n",
    "soup = BeautifulSoup(html)\n",
    "# print soup\n",
    "\n",
    "# Retrieve all of the anchor tags\n",
    "tags = soup('span')\n",
    "sum=0\n",
    "for tag in tags:\n",
    "    # Look at the parts of a tag\n",
    "    sum= sum +int(tag.contents[0])\n",
    "print sum\n",
    "\n",
    "#     print 'URL:',tag.get('href', None)\n",
    "#     print 'Contents:',tag.contents\n",
    "#     print 'Attrs:',tag.attrs\n"
   ]
  },
  {
   "cell_type": "code",
   "execution_count": 2,
   "metadata": {
    "collapsed": false
   },
   "outputs": [
    {
     "name": "stdout",
     "output_type": "stream",
     "text": [
      "Enter - http://python-data.dr-chuck.net/known_by_Fikret.html\n",
      "3\n",
      "URL: http://python-data.dr-chuck.net/known_by_Montgomery.html\n",
      "Content: Montgomery\n"
     ]
    }
   ],
   "source": [
    "-\n",
    "#  print 'Attrs:',tag.attrs\n",
    "\n",
    "#  Fikret Montgomery Mhairade Butchi Anayah \n",
    "# http://python-data.dr-chuck.net/known_by_Fikret.html\n"
   ]
  },
  {
   "cell_type": "code",
   "execution_count": 12,
   "metadata": {
    "collapsed": false
   },
   "outputs": [
    {
     "ename": "ImportError",
     "evalue": "No module named bs4",
     "output_type": "error",
     "traceback": [
      "\u001b[1;31m---------------------------------------------------------------------------\u001b[0m",
      "\u001b[1;31mImportError\u001b[0m                               Traceback (most recent call last)",
      "\u001b[1;32m<ipython-input-12-305dd0713044>\u001b[0m in \u001b[0;36m<module>\u001b[1;34m()\u001b[0m\n\u001b[0;32m      1\u001b[0m \u001b[1;32mimport\u001b[0m \u001b[0murllib\u001b[0m\u001b[1;33m\u001b[0m\u001b[0m\n\u001b[1;32m----> 2\u001b[1;33m \u001b[1;32mfrom\u001b[0m \u001b[0mbs4\u001b[0m \u001b[1;32mimport\u001b[0m \u001b[1;33m*\u001b[0m\u001b[1;33m\u001b[0m\u001b[0m\n\u001b[0m\u001b[0;32m      3\u001b[0m \u001b[1;33m\u001b[0m\u001b[0m\n\u001b[0;32m      4\u001b[0m \u001b[0murl\u001b[0m \u001b[1;33m=\u001b[0m \u001b[0mraw_input\u001b[0m\u001b[1;33m(\u001b[0m\u001b[1;34m'Enter URL: '\u001b[0m\u001b[1;33m)\u001b[0m\u001b[1;33m\u001b[0m\u001b[0m\n\u001b[0;32m      5\u001b[0m \u001b[0mcount\u001b[0m \u001b[1;33m=\u001b[0m \u001b[0mint\u001b[0m\u001b[1;33m(\u001b[0m\u001b[0mraw_input\u001b[0m\u001b[1;33m(\u001b[0m\u001b[1;34m'Enter count: '\u001b[0m\u001b[1;33m)\u001b[0m\u001b[1;33m)\u001b[0m\u001b[1;33m\u001b[0m\u001b[0m\n",
      "\u001b[1;31mImportError\u001b[0m: No module named bs4"
     ]
    }
   ],
   "source": [
    "import urllib\n",
    "from bs4 import *\n",
    "\n",
    "url = raw_input('Enter URL: ')\n",
    "count = int(raw_input('Enter count: '))\n",
    "position = int(raw_input('Enter position: '))\n",
    "\n",
    "\n",
    "# Retrieve all of the anchor tags\n",
    "for i in xrange(1, count+1):\n",
    "    html = urllib.urlopen(url).read()\n",
    "    soup = BeautifulSoup(html, 'html.parser')\n",
    "    tags = soup('a')\n",
    "    url = tags[position-1].attrs['href']\n",
    "    print tags[position-1].contents[0]\n",
    "    i = i + 1"
   ]
  },
  {
   "cell_type": "code",
   "execution_count": 6,
   "metadata": {
    "collapsed": false
   },
   "outputs": [
    {
     "name": "stdout",
     "output_type": "stream",
     "text": [
      "Enter URL : http://python-data.dr-chuck.net/known_by_Morna.html\n",
      "Enter position : 18\n",
      "Enter count : 7\n",
      "Retrieving:  http://python-data.dr-chuck.net/known_by_Morna.html\n",
      "Retrieving:  http://python-data.dr-chuck.net/known_by_Angelika.html\n",
      "Retrieving:  http://python-data.dr-chuck.net/known_by_Jensyn.html\n",
      "Retrieving:  http://python-data.dr-chuck.net/known_by_Shelley.html\n",
      "Retrieving:  http://python-data.dr-chuck.net/known_by_Kieron.html\n",
      "Retrieving:  http://python-data.dr-chuck.net/known_by_Jannat.html\n",
      "Retrieving:  http://python-data.dr-chuck.net/known_by_Miren.html\n",
      "Retrieving:  http://python-data.dr-chuck.net/known_by_Khaia.html\n"
     ]
    }
   ],
   "source": [
    "# Note - this code must run in Python 2.x and you must download\n",
    "# http://www.pythonlearn.com/code/BeautifulSoup.py\n",
    "# Into the same folder as this program\n",
    "\n",
    "import urllib\n",
    "import ssl\n",
    "from BeautifulSoup import *\n",
    "\n",
    "url = raw_input('Enter URL : ')\n",
    "position = raw_input('Enter position : ')\n",
    "count = raw_input('Enter count : ')\n",
    "\n",
    "scontext = ssl.SSLContext(ssl.PROTOCOL_TLSv1)\n",
    "uh = urllib.urlopen(url, context=scontext)\n",
    "data = uh.read()\n",
    "soup = BeautifulSoup(data)\n",
    "\n",
    "# Retrieve all of the anchor tags\n",
    "tags = soup('a')\n",
    "\n",
    "links = list()\n",
    "\n",
    "for tag in tags:\n",
    "    links.append(tag.get('href', None))\n",
    "\n",
    "print 'Retrieving: ', url\n",
    "print 'Retrieving: ', links[int(position)-1]\n",
    "\n",
    "link = links[int(position)-1]\n",
    "counter = 1\n",
    "while counter < int(count):\n",
    "    uh = urllib.urlopen(link, context=scontext)\n",
    "    data = uh.read()\n",
    "    soup = BeautifulSoup(data)\n",
    "\n",
    "    # Retrieve all of the anchor tags\n",
    "    tags = soup('a')\n",
    "\n",
    "    links = list()\n",
    "\n",
    "    for tag in tags:\n",
    "        links.append(tag.get('href', None))\n",
    "    print 'Retrieving: ', links[int(position)-1]\n",
    "    link = links[int(position)-1]\n",
    "    counter = counter + 1\n",
    "\n",
    "#  Fikret Montgomery Mhairade Butchi Anayah \n",
    "# http://python-data.dr-chuck.net/known_by_Fikret.html"
   ]
  },
  {
   "cell_type": "code",
   "execution_count": null,
   "metadata": {
    "collapsed": true
   },
   "outputs": [],
   "source": []
  }
 ],
 "metadata": {
  "kernelspec": {
   "display_name": "Python 2",
   "language": "python",
   "name": "python2"
  },
  "language_info": {
   "codemirror_mode": {
    "name": "ipython",
    "version": 2
   },
   "file_extension": ".py",
   "mimetype": "text/x-python",
   "name": "python",
   "nbconvert_exporter": "python",
   "pygments_lexer": "ipython2",
   "version": "2.7.11"
  }
 },
 "nbformat": 4,
 "nbformat_minor": 0
}
