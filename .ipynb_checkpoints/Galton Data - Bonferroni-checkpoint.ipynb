{
 "cells": [
  {
   "cell_type": "code",
   "execution_count": 1,
   "metadata": {
    "collapsed": false
   },
   "outputs": [
    {
     "data": {
      "text/html": [
       "<ol class=list-inline>\n",
       "\t<li>898</li>\n",
       "\t<li>6</li>\n",
       "</ol>\n"
      ],
      "text/latex": [
       "\\begin{enumerate*}\n",
       "\\item 898\n",
       "\\item 6\n",
       "\\end{enumerate*}\n"
      ],
      "text/markdown": [
       "1. 898\n",
       "2. 6\n",
       "\n",
       "\n"
      ],
      "text/plain": [
       "[1] 898   6"
      ]
     },
     "execution_count": 1,
     "metadata": {},
     "output_type": "execute_result"
    },
    {
     "data": {
      "text/html": [
       "<table>\n",
       "<thead><tr><th></th><th scope=col>Family</th><th scope=col>Father</th><th scope=col>Mother</th><th scope=col>Gender</th><th scope=col>Height</th><th scope=col>Kids</th></tr></thead>\n",
       "<tbody>\n",
       "\t<tr><th scope=row>1</th><td>1</td><td>78.5</td><td>67</td><td>M</td><td>73.2</td><td>4</td></tr>\n",
       "\t<tr><th scope=row>2</th><td>1</td><td>78.5</td><td>67</td><td>F</td><td>69.2</td><td>4</td></tr>\n",
       "\t<tr><th scope=row>3</th><td>1</td><td>78.5</td><td>67</td><td>F</td><td>69</td><td>4</td></tr>\n",
       "\t<tr><th scope=row>4</th><td>1</td><td>78.5</td><td>67</td><td>F</td><td>69</td><td>4</td></tr>\n",
       "\t<tr><th scope=row>5</th><td>2</td><td>75.5</td><td>66.5</td><td>M</td><td>73.5</td><td>4</td></tr>\n",
       "\t<tr><th scope=row>6</th><td>2</td><td>75.5</td><td>66.5</td><td>M</td><td>72.5</td><td>4</td></tr>\n",
       "</tbody>\n",
       "</table>\n"
      ],
      "text/latex": [
       "\\begin{tabular}{r|llllll}\n",
       "  & Family & Father & Mother & Gender & Height & Kids\\\\\n",
       "\\hline\n",
       "\t1 & 1 & 78.5 & 67 & M & 73.2 & 4\\\\\n",
       "\t2 & 1 & 78.5 & 67 & F & 69.2 & 4\\\\\n",
       "\t3 & 1 & 78.5 & 67 & F & 69 & 4\\\\\n",
       "\t4 & 1 & 78.5 & 67 & F & 69 & 4\\\\\n",
       "\t5 & 2 & 75.5 & 66.5 & M & 73.5 & 4\\\\\n",
       "\t6 & 2 & 75.5 & 66.5 & M & 72.5 & 4\\\\\n",
       "\\end{tabular}\n"
      ],
      "text/plain": [
       "  Family Father Mother Gender Height Kids\n",
       "1      1   78.5   67.0      M   73.2    4\n",
       "2      1   78.5   67.0      F   69.2    4\n",
       "3      1   78.5   67.0      F   69.0    4\n",
       "4      1   78.5   67.0      F   69.0    4\n",
       "5      2   75.5   66.5      M   73.5    4\n",
       "6      2   75.5   66.5      M   72.5    4"
      ]
     },
     "execution_count": 1,
     "metadata": {},
     "output_type": "execute_result"
    }
   ],
   "source": [
    "library(car, quietly=TRUE)\n",
    "galton <-read.csv(\"galton.csv\")\n",
    "\n",
    "dim(galton)\n",
    "head(galton)"
   ]
  },
  {
   "cell_type": "code",
   "execution_count": 2,
   "metadata": {
    "collapsed": false
   },
   "outputs": [
    {
     "name": "stdout",
     "output_type": "stream",
     "text": [
      "[1] 239 334 514 813 181\n"
     ]
    }
   ],
   "source": [
    "##creating outliers\n",
    "set.seed(1)\n",
    "random_index <- sample(1:nrow(galton), size = 5, replace = FALSE, prob = NULL)\n",
    "print(random_index)\n",
    "galton[random_index,\"Height\"] = galton[random_index,\"Height\"] +100\n",
    "\n",
    "set.seed(2)\n",
    "random_index2 <- sample(1:nrow(galton), size = 5, replace = FALSE, prob = NULL)\n",
    "galton[random_index2,\"Height\"] = galton[random_index2,\"Height\"] +75\n",
    "\n",
    "set.seed(3)\n",
    "random_index3 <- sample(1:nrow(galton), size = 5, replace = FALSE, prob = NULL)\n",
    "galton[random_index3,\"Height\"] = galton[random_index3,\"Height\"] +50\n"
   ]
  },
  {
   "cell_type": "code",
   "execution_count": 3,
   "metadata": {
    "collapsed": false
   },
   "outputs": [
    {
     "data": {
      "text/plain": [
       "     rstudent unadjusted p-value Bonferonni p\n",
       "514 17.588045         1.0817e-59   9.7140e-57\n",
       "151 11.032580         1.2696e-26   1.1401e-23\n",
       "181  9.150396         3.7570e-19   3.3738e-16\n",
       "813  8.869909         3.9183e-18   3.5186e-15\n",
       "239  8.736011         1.1751e-17   1.0553e-14\n",
       "334  8.536746         5.8737e-17   5.2746e-14\n",
       "844  6.739017         2.8551e-11   2.5639e-08\n",
       "631  6.487641         1.4421e-10   1.2950e-07\n",
       "167  6.457464         1.7453e-10   1.5672e-07\n",
       "725  4.536382         6.5030e-06   5.8397e-03"
      ]
     },
     "execution_count": 3,
     "metadata": {},
     "output_type": "execute_result"
    }
   ],
   "source": [
    "currentData <- galton\n",
    "linear_reg <- lm(Height~Father+Mother,data=currentData)\n",
    "\n",
    "outlierResult <-outlierTest(linear_reg)\n",
    "outlierResult\n",
    "\n"
   ]
  },
  {
   "cell_type": "code",
   "execution_count": 10,
   "metadata": {
    "collapsed": false
   },
   "outputs": [
    {
     "data": {
      "text/plain": [
       "\n",
       "No Studentized residuals with Bonferonni p < 0.05\n",
       "Largest |rstudent|:\n",
       "    rstudent unadjusted p-value Bonferonni p\n",
       "289 3.469102         0.00054752      0.48455"
      ]
     },
     "execution_count": 10,
     "metadata": {},
     "output_type": "execute_result"
    }
   ],
   "source": [
    "##currentData <- galton\n",
    "linear_reg <- lm(Height~Father+Mother,data=currentData)\n",
    "\n",
    "outlierResult <-outlierTest(linear_reg)\n",
    "outlierResult\n"
   ]
  },
  {
   "cell_type": "code",
   "execution_count": 8,
   "metadata": {
    "collapsed": true
   },
   "outputs": [],
   "source": [
    "##while(length(outlierResult)!=0){\n",
    "  exclusionRows <-names(outlierResult[[1]])\n",
    "\n",
    "\n",
    "  inclusionRows <- !(rownames(currentData) %in% exclusionRows)\n",
    "  currentData <- currentData[inclusionRows,]\n",
    "\n",
    "  linear_reg <- lm(Height~Father+Mother,data=currentData)\n",
    "  outlierResult <-outlierTest(linear_reg)\n",
    "\n",
    "##}"
   ]
  },
  {
   "cell_type": "code",
   "execution_count": 9,
   "metadata": {
    "collapsed": false
   },
   "outputs": [
    {
     "data": {
      "text/html": [
       "<ol class=list-inline>\n",
       "\t<li>885</li>\n",
       "\t<li>6</li>\n",
       "</ol>\n"
      ],
      "text/latex": [
       "\\begin{enumerate*}\n",
       "\\item 885\n",
       "\\item 6\n",
       "\\end{enumerate*}\n"
      ],
      "text/markdown": [
       "1. 885\n",
       "2. 6\n",
       "\n",
       "\n"
      ],
      "text/plain": [
       "[1] 885   6"
      ]
     },
     "execution_count": 9,
     "metadata": {},
     "output_type": "execute_result"
    }
   ],
   "source": [
    "dim(currentData)"
   ]
  },
  {
   "cell_type": "code",
   "execution_count": 12,
   "metadata": {
    "collapsed": false
   },
   "outputs": [
    {
     "data": {
      "text/html": [
       "\"289\""
      ],
      "text/latex": [
       "\"289\""
      ],
      "text/markdown": [
       "\"289\""
      ],
      "text/plain": [
       "[1] \"289\""
      ]
     },
     "execution_count": 12,
     "metadata": {},
     "output_type": "execute_result"
    }
   ],
   "source": [
    "exclusionRows <-names(outlierResult[[1]])\n",
    "exclusionRows"
   ]
  },
  {
   "cell_type": "code",
   "execution_count": null,
   "metadata": {
    "collapsed": true
   },
   "outputs": [],
   "source": []
  }
 ],
 "metadata": {
  "kernelspec": {
   "display_name": "R",
   "language": "R",
   "name": "ir"
  },
  "language_info": {
   "codemirror_mode": "r",
   "file_extension": ".r",
   "mimetype": "text/x-r-source",
   "name": "R",
   "pygments_lexer": "r",
   "version": "3.1.3"
  }
 },
 "nbformat": 4,
 "nbformat_minor": 0
}
