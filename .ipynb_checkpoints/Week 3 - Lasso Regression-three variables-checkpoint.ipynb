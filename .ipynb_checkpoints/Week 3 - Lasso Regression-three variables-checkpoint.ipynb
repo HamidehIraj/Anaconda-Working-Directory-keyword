{
 "cells": [
  {
   "cell_type": "code",
   "execution_count": 1,
   "metadata": {
    "collapsed": false
   },
   "outputs": [
    {
     "name": "stderr",
     "output_type": "stream",
     "text": [
      "E:\\Anaconda\\lib\\site-packages\\sklearn\\utils\\fixes.py:64: DeprecationWarning: inspect.getargspec() is deprecated, use inspect.signature() instead\n",
      "  if 'order' in inspect.getargspec(np.copy)[0]:\n"
     ]
    }
   ],
   "source": [
    "## Suppressing Warnings\n",
    "import warnings\n",
    "warnings.filterwarnings('ignore')\n",
    "\n",
    "## Loading Libraries\n",
    "#from pandas import Series, DataFrame\n",
    "import pandas as pd\n",
    "import numpy as np\n",
    "import matplotlib.pylab as plt\n",
    "%matplotlib inline\n",
    "from sklearn.cross_validation import train_test_split\n",
    "from sklearn.linear_model import LassoLarsCV\n",
    "\n",
    "import statistics"
   ]
  },
  {
   "cell_type": "code",
   "execution_count": 2,
   "metadata": {
    "collapsed": false
   },
   "outputs": [],
   "source": [
    "## Load the dataset\n",
    "gap_tree = pd.read_csv(\"gapminder.csv\")\n",
    "\n",
    "## Removing NAs\n",
    "gap= gap_tree.dropna()\n",
    "\n",
    "#gap.dtypes\n",
    "#gap.describe()\n",
    "#gap.suicideper100th.describe()"
   ]
  },
  {
   "cell_type": "code",
   "execution_count": 3,
   "metadata": {
    "collapsed": false
   },
   "outputs": [],
   "source": [
    "## Preparing Data\n",
    "\n",
    "gap.head(3)\n",
    "#gap = gap[['country','urbanrate','incomeperperson','alcconsumption','suicide_cat']]\n",
    "#print(gap)\n",
    "#gap.head(3)\n",
    "#gap.describe()\n",
    "gap= gap.dropna()  \n",
    "#gap.urbanrate.dtype\n"
   ]
  },
  {
   "cell_type": "code",
   "execution_count": 17,
   "metadata": {
    "collapsed": false
   },
   "outputs": [
    {
     "name": "stdout",
     "output_type": "stream",
     "text": [
      "3.94483500239e-16\n",
      "0.9999999999999999\n",
      "(32, 3)\n",
      "(15, 3)\n"
     ]
    }
   ],
   "source": [
    "## Suppressing Warnings\n",
    "import warnings\n",
    "warnings.filterwarnings('ignore')\n",
    "\n",
    "gap['suicideper100th']     = pd.to_numeric(gap['suicideper100th'],      errors='coerce')\n",
    "gap['incomeperperson']     = pd.to_numeric(gap['incomeperperson'],      errors='coerce')\n",
    "gap['alcconsumption']      = pd.to_numeric(gap['alcconsumption'],       errors='coerce')\n",
    "gap['urbanrate']           = pd.to_numeric(gap['urbanrate'],            errors='coerce')\n",
    "gap = gap[(gap['suicideper100th']>0)      & (gap['incomeperperson']>0) & (gap['alcconsumption']>0) &  (gap['urbanrate']>0)]\n",
    "\n",
    "\n",
    "predictors = gap[[ 'incomeperperson', 'alcconsumption',  'urbanrate' ]]       \n",
    "target = gap.suicideper100th\n",
    "\n",
    "# standardize predictors to have mean=0 and sd=1\n",
    "predictors2=predictors.copy()\n",
    "from sklearn import preprocessing\n",
    "\n",
    "predictors['incomeperperson']     =preprocessing.scale(predictors['incomeperperson'])\n",
    "predictors['alcconsumption']      =preprocessing.scale(predictors['alcconsumption'])\n",
    "predictors['urbanrate']           =preprocessing.scale(predictors['urbanrate'])\n",
    "\n",
    "# checking mean and standard deviation\n",
    "print(predictors.urbanrate.mean())\n",
    "print(statistics.pstdev(predictors.urbanrate))\n",
    "\n",
    "# split data into train and test sets\n",
    "pred_train, pred_test, tar_train, tar_test = train_test_split(predictors, target, \n",
    "                                                              test_size=.3, random_state=123)\n",
    "print(pred_train.shape)\n",
    "print(pred_test.shape)\n",
    " "
   ]
  },
  {
   "cell_type": "code",
   "execution_count": 31,
   "metadata": {
    "collapsed": false
   },
   "outputs": [],
   "source": [
    "#predictors.head\n"
   ]
  },
  {
   "cell_type": "code",
   "execution_count": 10,
   "metadata": {
    "collapsed": false
   },
   "outputs": [
    {
     "data": {
      "text/plain": [
       "{'alcconsumption': 0.90258162129269692,\n",
       " 'incomeperperson': 0.0,\n",
       " 'urbanrate': 0.0}"
      ]
     },
     "execution_count": 10,
     "metadata": {},
     "output_type": "execute_result"
    }
   ],
   "source": [
    "# specify the lasso regression model\n",
    "model=LassoLarsCV(cv=10, precompute=False).fit(pred_train,tar_train)\n",
    "\n",
    "# My target is suicideper100th on Gapminder dataset\n",
    "# print variable names and regression coefficients\n",
    "dict(zip(predictors.columns, model.coef_))"
   ]
  },
  {
   "cell_type": "code",
   "execution_count": 23,
   "metadata": {
    "collapsed": false
   },
   "outputs": [
    {
     "name": "stdout",
     "output_type": "stream",
     "text": [
      "[ 0.3355505   0.16936856]\n"
     ]
    },
    {
     "data": {
      "text/plain": [
       "array([ 0.47424211,  0.77116719])"
      ]
     },
     "execution_count": 23,
     "metadata": {},
     "output_type": "execute_result"
    }
   ],
   "source": [
    "##??LassoLarsCV\n",
    "\n",
    "##-np.log(0.90258162129269692)\n",
    "print(model.alphas_)\n",
    "m_log_alphas = -np.log10(model.alphas_)\n",
    "m_log_alphas"
   ]
  },
  {
   "cell_type": "code",
   "execution_count": 26,
   "metadata": {
    "collapsed": false
   },
   "outputs": [
    {
     "name": "stdout",
     "output_type": "stream",
     "text": [
      "<zip object at 0x000000000B827708>\n"
     ]
    }
   ],
   "source": [
    "# print(zip(predictors.columns, model.coef_))"
   ]
  },
  {
   "cell_type": "code",
   "execution_count": 11,
   "metadata": {
    "collapsed": false
   },
   "outputs": [
    {
     "data": {
      "text/plain": [
       "<matplotlib.text.Text at 0xae6ada0>"
      ]
     },
     "execution_count": 11,
     "metadata": {},
     "output_type": "execute_result"
    },
    {
     "data": {
      "image/png": "[encoded data removed]",
      "text/plain": [
       "<matplotlib.figure.Figure at 0xae51ef0>"
      ]
     },
     "metadata": {},
     "output_type": "display_data"
    }
   ],
   "source": [
    "# plot coefficient progression\n",
    "m_log_alphas = -np.log10(model.alphas_)\n",
    "ax = plt.gca()\n",
    "plt.plot(m_log_alphas, model.coef_path_.T)\n",
    "plt.axvline(-np.log10(model.alpha_), linestyle='--', color='k',\n",
    "            label='alpha CV')\n",
    "plt.ylabel('Regression Coefficients')\n",
    "plt.xlabel('-log(alpha)')\n",
    "plt.title('Regression Coefficients Progression for Lasso Paths')"
   ]
  },
  {
   "cell_type": "code",
   "execution_count": 29,
   "metadata": {
    "collapsed": false
   },
   "outputs": [
    {
     "data": {
      "text/plain": [
       "<matplotlib.text.Text at 0xb89beb8>"
      ]
     },
     "execution_count": 29,
     "metadata": {},
     "output_type": "execute_result"
    },
    {
     "data": {
      "image/png": "[encoded data removed]",
      "text/plain": [
       "<matplotlib.figure.Figure at 0xb84f7f0>"
      ]
     },
     "metadata": {},
     "output_type": "display_data"
    }
   ],
   "source": [
    "# plot mean square error for each fold\n",
    "m_log_alphascv = -np.log10(model.cv_alphas_)\n",
    "plt.figure()\n",
    "plt.plot(m_log_alphascv, model.cv_mse_path_, ':')\n",
    "plt.plot(m_log_alphascv, model.cv_mse_path_.mean(axis=-1), 'k',\n",
    "         label='Average across the folds', linewidth=2)\n",
    "plt.axvline(-np.log10(model.alpha_), linestyle='--', color='k',\n",
    "            label='alpha CV')\n",
    "plt.legend()\n",
    "plt.xlabel('-log(alpha)')\n",
    "plt.ylabel('Mean squared error')\n",
    "plt.title('Mean squared error on each fold')"
   ]
  },
  {
   "cell_type": "code",
   "execution_count": 28,
   "metadata": {
    "collapsed": false
   },
   "outputs": [
    {
     "name": "stdout",
     "output_type": "stream",
     "text": [
      "training data MSE\n",
      "27.8083140476\n",
      "test data MSE\n",
      "54.0638076185\n"
     ]
    }
   ],
   "source": [
    "# MSE from training and test data\n",
    "from sklearn.metrics import mean_squared_error\n",
    "train_error = mean_squared_error(tar_train, model.predict(pred_train))\n",
    "test_error = mean_squared_error(tar_test, model.predict(pred_test))\n",
    "print ('training data MSE')\n",
    "print(train_error)\n",
    "print ('test data MSE')\n",
    "print(test_error)"
   ]
  },
  {
   "cell_type": "code",
   "execution_count": 27,
   "metadata": {
    "collapsed": false
   },
   "outputs": [
    {
     "name": "stdout",
     "output_type": "stream",
     "text": [
      "training data R-square\n",
      "0.0880541748244\n",
      "test data R-square\n",
      "0.0997712804564\n"
     ]
    }
   ],
   "source": [
    "# R-square from training and test data\n",
    "rsquared_train=model.score(pred_train,tar_train)\n",
    "rsquared_test=model.score(pred_test,tar_test)\n",
    "print ('training data R-square')\n",
    "print(rsquared_train)\n",
    "print ('test data R-square')\n",
    "print(rsquared_test)"
   ]
  },
  {
   "cell_type": "code",
   "execution_count": null,
   "metadata": {
    "collapsed": true
   },
   "outputs": [],
   "source": []
  }
 ],
 "metadata": {
  "kernelspec": {
   "display_name": "Python 3",
   "language": "python",
   "name": "python3"
  },
  "language_info": {
   "codemirror_mode": {
    "name": "ipython",
    "version": 3
   },
   "file_extension": ".py",
   "mimetype": "text/x-python",
   "name": "python",
   "nbconvert_exporter": "python",
   "pygments_lexer": "ipython3",
   "version": "3.5.1"
  }
 },
 "nbformat": 4,
 "nbformat_minor": 0
}
