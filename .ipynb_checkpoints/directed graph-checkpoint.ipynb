{
 "cells": [
  {
   "cell_type": "code",
   "execution_count": 1,
   "metadata": {
    "collapsed": true
   },
   "outputs": [],
   "source": [
    "## based on Graphs in Python\n",
    "## http://www.python-course.eu/graphs_python.php"
   ]
  },
  {
   "cell_type": "code",
   "execution_count": 2,
   "metadata": {
    "collapsed": true
   },
   "outputs": [],
   "source": [
    "graph = { \"a\" : [\"c\"],\n",
    "          \"b\" : [\"c\", \"e\"],\n",
    "          \"c\" : [\"a\", \"b\", \"d\", \"e\"],\n",
    "          \"d\" : [\"c\"],\n",
    "          \"e\" : [\"c\", \"b\"],\n",
    "          \"f\" : []\n",
    "        }"
   ]
  },
  {
   "cell_type": "code",
   "execution_count": 3,
   "metadata": {
    "collapsed": false
   },
   "outputs": [
    {
     "name": "stdout",
     "output_type": "stream",
     "text": [
      "[('b', 'c'), ('b', 'e'), ('c', 'a'), ('c', 'b'), ('c', 'd'), ('c', 'e'), ('e', 'c'), ('e', 'b'), ('d', 'c'), ('a', 'c')]\n"
     ]
    }
   ],
   "source": [
    "def generate_edges(graph):\n",
    "    edges = []\n",
    "    for node in graph:\n",
    "        for neighbour in graph[node]:\n",
    "            edges.append((node, neighbour))\n",
    "\n",
    "    return edges\n",
    "\n",
    "print(generate_edges(graph))"
   ]
  },
  {
   "cell_type": "code",
   "execution_count": 5,
   "metadata": {
    "collapsed": false
   },
   "outputs": [
    {
     "data": {
      "text/plain": [
       "['f']"
      ]
     },
     "execution_count": 5,
     "metadata": {},
     "output_type": "execute_result"
    }
   ],
   "source": [
    "def find_isolated_nodes(graph):\n",
    "    \"\"\" returns a list of isolated nodes. \"\"\"\n",
    "    isolated = []\n",
    "    for node in graph:\n",
    "        if not graph[node]:\n",
    "            isolated += node\n",
    "    return isolated\n",
    "\n",
    "find_isolated_nodes(graph)"
   ]
  },
  {
   "cell_type": "code",
   "execution_count": 6,
   "metadata": {
    "collapsed": false
   },
   "outputs": [
    {
     "name": "stdout",
     "output_type": "stream",
     "text": [
      "Vertices of graph:\n",
      "['f', 'b', 'c', 'e', 'd', 'a']\n",
      "Edges of graph:\n",
      "[{'b', 'c'}, {'c'}, {'d', 'c'}, {'e', 'c'}, {'a', 'd'}]\n",
      "Add vertex:\n",
      "Vertices of graph:\n",
      "['f', 'b', 'c', 'z', 'e', 'd', 'a']\n",
      "Add an edge:\n",
      "Vertices of graph:\n",
      "['f', 'b', 'c', 'z', 'e', 'd', 'a']\n",
      "Edges of graph:\n",
      "[{'b', 'c'}, {'c'}, {'d', 'c'}, {'e', 'c'}, {'a', 'd'}, {'a', 'z'}]\n",
      "Adding an edge {\"x\",\"y\"} with new vertices:\n",
      "Vertices of graph:\n",
      "['f', 'b', 'c', 'z', 'x', 'e', 'd', 'a']\n",
      "Edges of graph:\n",
      "[{'b', 'c'}, {'c'}, {'d', 'c'}, {'e', 'c'}, {'x', 'y'}, {'a', 'd'}, {'a', 'z'}]\n"
     ]
    }
   ],
   "source": [
    "\"\"\" A Python Class\n",
    "A simple Python graph class, demonstrating the essential \n",
    "facts and functionalities of graphs.\n",
    "\"\"\"\n",
    "\n",
    "\n",
    "class Graph(object):\n",
    "\n",
    "    def __init__(self, graph_dict={}):\n",
    "        \"\"\" initializes a graph object \"\"\"\n",
    "        self.__graph_dict = graph_dict\n",
    "\n",
    "    def vertices(self):\n",
    "        \"\"\" returns the vertices of a graph \"\"\"\n",
    "        return list(self.__graph_dict.keys())\n",
    "\n",
    "    def edges(self):\n",
    "        \"\"\" returns the edges of a graph \"\"\"\n",
    "        return self.__generate_edges()\n",
    "\n",
    "    def add_vertex(self, vertex):\n",
    "        \"\"\" If the vertex \"vertex\" is not in \n",
    "            self.__graph_dict, a key \"vertex\" with an empty\n",
    "            list as a value is added to the dictionary. \n",
    "            Otherwise nothing has to be done. \n",
    "        \"\"\"\n",
    "        if vertex not in self.__graph_dict:\n",
    "            self.__graph_dict[vertex] = []\n",
    "\n",
    "    def add_edge(self, edge):\n",
    "        \"\"\" assumes that edge is of type set, tuple or list; \n",
    "            between two vertices can be multiple edges! \n",
    "        \"\"\"\n",
    "        edge = set(edge)\n",
    "        (vertex1, vertex2) = tuple(edge)\n",
    "        if vertex1 in self.__graph_dict:\n",
    "            self.__graph_dict[vertex1].append(vertex2)\n",
    "        else:\n",
    "            self.__graph_dict[vertex1] = [vertex2]\n",
    "\n",
    "    def __generate_edges(self):\n",
    "        \"\"\" A static method generating the edges of the \n",
    "            graph \"graph\". Edges are represented as sets \n",
    "            with one (a loop back to the vertex) or two \n",
    "            vertices \n",
    "        \"\"\"\n",
    "        edges = []\n",
    "        for vertex in self.__graph_dict:\n",
    "            for neighbour in self.__graph_dict[vertex]:\n",
    "                if {neighbour, vertex} not in edges:\n",
    "                    edges.append({vertex, neighbour})\n",
    "        return edges\n",
    "\n",
    "    def __str__(self):\n",
    "        res = \"vertices: \"\n",
    "        for k in self.__graph_dict:\n",
    "            res += str(k) + \" \"\n",
    "        res += \"\\nedges: \"\n",
    "        for edge in self.__generate_edges():\n",
    "            res += str(edge) + \" \"\n",
    "        return res\n",
    "\n",
    "\n",
    "if __name__ == \"__main__\":\n",
    "\n",
    "    g = { \"a\" : [\"d\"],\n",
    "          \"b\" : [\"c\"],\n",
    "          \"c\" : [\"b\", \"c\", \"d\", \"e\"],\n",
    "          \"d\" : [\"a\", \"c\"],\n",
    "          \"e\" : [\"c\"],\n",
    "          \"f\" : []\n",
    "        }\n",
    "\n",
    "\n",
    "    graph = Graph(g)\n",
    "\n",
    "    print(\"Vertices of graph:\")\n",
    "    print(graph.vertices())\n",
    "\n",
    "    print(\"Edges of graph:\")\n",
    "    print(graph.edges())\n",
    "\n",
    "    print(\"Add vertex:\")\n",
    "    graph.add_vertex(\"z\")\n",
    "\n",
    "    print(\"Vertices of graph:\")\n",
    "    print(graph.vertices())\n",
    " \n",
    "    print(\"Add an edge:\")\n",
    "    graph.add_edge({\"a\",\"z\"})\n",
    "    \n",
    "    print(\"Vertices of graph:\")\n",
    "    print(graph.vertices())\n",
    "\n",
    "    print(\"Edges of graph:\")\n",
    "    print(graph.edges())\n",
    "\n",
    "    print('Adding an edge {\"x\",\"y\"} with new vertices:')\n",
    "    graph.add_edge({\"x\",\"y\"})\n",
    "    print(\"Vertices of graph:\")\n",
    "    print(graph.vertices())\n",
    "    print(\"Edges of graph:\")\n",
    "    print(graph.edges())\n",
    "  "
   ]
  },
  {
   "cell_type": "code",
   "execution_count": null,
   "metadata": {
    "collapsed": true
   },
   "outputs": [],
   "source": []
  }
 ],
 "metadata": {
  "kernelspec": {
   "display_name": "Python 3",
   "language": "python",
   "name": "python3"
  },
  "language_info": {
   "codemirror_mode": {
    "name": "ipython",
    "version": 3
   },
   "file_extension": ".py",
   "mimetype": "text/x-python",
   "name": "python",
   "nbconvert_exporter": "python",
   "pygments_lexer": "ipython3",
   "version": "3.5.1"
  }
 },
 "nbformat": 4,
 "nbformat_minor": 0
}
