{
 "cells": [
  {
   "cell_type": "code",
   "execution_count": 36,
   "metadata": {
    "collapsed": false
   },
   "outputs": [],
   "source": [
    "## Suppressing Warnings\n",
    "import warnings\n",
    "warnings.filterwarnings('ignore')\n",
    "\n",
    "## Loading Libraries\n",
    "#from pandas import Series, DataFrame\n",
    "import pandas as pd\n",
    "import numpy as np\n",
    "import matplotlib.pylab as plt\n",
    "%matplotlib inline\n",
    "from sklearn.cross_validation import train_test_split\n",
    "from sklearn.linear_model import LassoLarsCV\n",
    "\n",
    "import statistics"
   ]
  },
  {
   "cell_type": "code",
   "execution_count": 3,
   "metadata": {
    "collapsed": false
   },
   "outputs": [],
   "source": [
    "## Load the dataset\n",
    "gap_tree = pd.read_csv(\"gapminder.csv\")\n",
    "\n",
    "## Removing NAs\n",
    "gap= gap_tree.dropna()\n",
    "\n",
    "#gap.dtypes\n",
    "#gap.describe()\n",
    "#gap.suicideper100th.describe()"
   ]
  },
  {
   "cell_type": "code",
   "execution_count": 4,
   "metadata": {
    "collapsed": false
   },
   "outputs": [],
   "source": [
    "## Preparing Data\n",
    "\n",
    "gap.head(3)\n",
    "#gap = gap[['country','urbanrate','incomeperperson','alcconsumption','suicide_cat']]\n",
    "#print(gap)\n",
    "#gap.head(3)\n",
    "#gap.describe()\n",
    "gap= gap.dropna()  \n",
    "#gap.urbanrate.dtype\n"
   ]
  },
  {
   "cell_type": "code",
   "execution_count": 28,
   "metadata": {
    "collapsed": false
   },
   "outputs": [
    {
     "name": "stdout",
     "output_type": "stream",
     "text": [
      "3.94483500239e-16\n",
      "0.9999999999999999\n"
     ]
    }
   ],
   "source": [
    "## Suppressing Warnings\n",
    "import warnings\n",
    "warnings.filterwarnings('ignore')\n",
    "\n",
    "\n",
    "\n",
    "gap['suicideper100th']     = pd.to_numeric(gap['suicideper100th'], errors='coerce')\n",
    "\n",
    "gap['incomeperperson']     = pd.to_numeric(gap['incomeperperson'], errors='coerce')\n",
    "gap['alcconsumption']      = pd.to_numeric(gap['alcconsumption'], errors='coerce')\n",
    "gap['armedforcesrate']     = pd.to_numeric(gap['armedforcesrate'], errors='coerce')\n",
    "gap['breastcancerper100th']= pd.to_numeric(gap['breastcancerper100th'], errors='coerce')\n",
    "gap['co2emissions']        = pd.to_numeric(gap['co2emissions'], errors='coerce')\n",
    "gap['femaleemployrate']    = pd.to_numeric(gap['femaleemployrate'], errors='coerce')\n",
    "gap['hivrate']             = pd.to_numeric(gap['hivrate'], errors='coerce')\n",
    "gap['internetuserate']     = pd.to_numeric(gap['internetuserate'], errors='coerce')\n",
    "gap['lifeexpectancy']      = pd.to_numeric(gap['lifeexpectancy'], errors='coerce')\n",
    "gap['oilperperson']        = pd.to_numeric(gap['oilperperson'], errors='coerce')\n",
    "gap['polityscore']         = pd.to_numeric(gap['polityscore'], errors='coerce')\n",
    "gap['relectricperperson']  = pd.to_numeric(gap['relectricperperson'], errors='coerce')\n",
    "gap['employrate']          = pd.to_numeric(gap['employrate'], errors='coerce')\n",
    "gap['urbanrate']           = pd.to_numeric(gap['urbanrate'], errors='coerce')\n",
    "\n",
    "gap = gap[(gap['suicideper100th']>0)      & (gap['incomeperperson']>0) & (gap['alcconsumption']>0)   & (gap['armedforcesrate']>0) &\n",
    "          (gap['breastcancerper100th']>0) & (gap['co2emissions']>0)    & (gap['femaleemployrate']>0) & (gap['hivrate']>0) &\n",
    "          (gap['internetuserate']>0)      & (gap['lifeexpectancy']>0)  & (gap['oilperperson']>0)     & (gap['polityscore']>0) &\n",
    "          (gap['relectricperperson']>0)   & (gap['employrate']>0)      & (gap['urbanrate']>0)]\n",
    "\n",
    "\n",
    "## Modeling and Prediction\n",
    "predictors = gap[[ 'incomeperperson', 'alcconsumption', 'armedforcesrate',\n",
    "       'breastcancerper100th', 'co2emissions', 'femaleemployrate', 'hivrate',\n",
    "       'internetuserate', 'lifeexpectancy', 'oilperperson', 'polityscore',\n",
    "       'relectricperperson', 'employrate', 'urbanrate' ]]\n",
    "\n",
    "target = gap.suicideper100th\n",
    "\n",
    "# standardize predictors to have mean=0 and sd=1\n",
    "predictors2=predictors.copy()\n",
    "from sklearn import preprocessing\n",
    "\n",
    "predictors['incomeperperson']     =preprocessing.scale(predictors['incomeperperson'])\n",
    "predictors['alcconsumption']      =preprocessing.scale(predictors['alcconsumption'])\n",
    "predictors['armedforcesrate']     =preprocessing.scale(predictors['armedforcesrate'])\n",
    "predictors['breastcancerper100th']=preprocessing.scale(predictors['breastcancerper100th'])\n",
    "predictors['co2emissions']        =preprocessing.scale(predictors['co2emissions'])\n",
    "predictors['femaleemployrate']    =preprocessing.scale(predictors['femaleemployrate'])\n",
    "predictors['hivrate']             =preprocessing.scale(predictors['hivrate'])\n",
    "predictors['internetuserate']     =preprocessing.scale(predictors['internetuserate'])\n",
    "predictors['lifeexpectancy']      =preprocessing.scale(predictors['lifeexpectancy'])\n",
    "predictors['oilperperson']        =preprocessing.scale(predictors['oilperperson'])\n",
    "predictors['polityscore']         =preprocessing.scale(predictors['polityscore'])\n",
    "predictors['relectricperperson']  =preprocessing.scale(predictors['relectricperperson'])\n",
    "predictors['employrate']          =preprocessing.scale(predictors['employrate'])\n",
    "predictors['urbanrate']           =preprocessing.scale(predictors['urbanrate'])\n",
    "\n",
    "\n",
    "print(predictors.urbanrate.mean())\n",
    "print(statistics.pstdev(predictors.urbanrate))\n",
    "\n",
    "# split data into train and test sets\n",
    "pred_train, pred_test, tar_train, tar_test = train_test_split(predictors, target, \n",
    "                                                              test_size=.3, random_state=123)\n",
    "\n",
    " "
   ]
  },
  {
   "cell_type": "code",
   "execution_count": 31,
   "metadata": {
    "collapsed": false
   },
   "outputs": [],
   "source": [
    "#predictors.head\n"
   ]
  },
  {
   "cell_type": "code",
   "execution_count": 34,
   "metadata": {
    "collapsed": false
   },
   "outputs": [
    {
     "data": {
      "text/plain": [
       "{'alcconsumption': 0.0,\n",
       " 'armedforcesrate': 0.0,\n",
       " 'breastcancerper100th': 0.0,\n",
       " 'co2emissions': 0.0,\n",
       " 'employrate': 0.0,\n",
       " 'femaleemployrate': 0.0,\n",
       " 'hivrate': 0.0,\n",
       " 'incomeperperson': 0.0,\n",
       " 'internetuserate': 0.0,\n",
       " 'lifeexpectancy': 0.0,\n",
       " 'oilperperson': 0.0,\n",
       " 'polityscore': 0.0,\n",
       " 'relectricperperson': 0.0,\n",
       " 'urbanrate': 0.0}"
      ]
     },
     "execution_count": 34,
     "metadata": {},
     "output_type": "execute_result"
    }
   ],
   "source": [
    "# specify the lasso regression model\n",
    "model=LassoLarsCV(cv=10, precompute=False).fit(pred_train,tar_train)\n",
    "\n",
    "# print variable names and regression coefficients\n",
    "dict(zip(predictors.columns, model.coef_))"
   ]
  },
  {
   "cell_type": "code",
   "execution_count": 37,
   "metadata": {
    "collapsed": false
   },
   "outputs": [
    {
     "data": {
      "text/plain": [
       "<matplotlib.text.Text at 0xb3e12e8>"
      ]
     },
     "execution_count": 37,
     "metadata": {},
     "output_type": "execute_result"
    },
    {
     "data": {
      "image/png": "[encoded data removed]",
      "text/plain": [
       "<matplotlib.figure.Figure at 0x92de940>"
      ]
     },
     "metadata": {},
     "output_type": "display_data"
    }
   ],
   "source": [
    "\n",
    "# plot coefficient progression\n",
    "m_log_alphas = -np.log10(model.alphas_)\n",
    "ax = plt.gca()\n",
    "plt.plot(m_log_alphas, model.coef_path_.T)\n",
    "plt.axvline(-np.log10(model.alpha_), linestyle='--', color='k',\n",
    "            label='alpha CV')\n",
    "plt.ylabel('Regression Coefficients')\n",
    "plt.xlabel('-log(alpha)')\n",
    "plt.title('Regression Coefficients Progression for Lasso Paths')"
   ]
  },
  {
   "cell_type": "code",
   "execution_count": 38,
   "metadata": {
    "collapsed": false
   },
   "outputs": [
    {
     "data": {
      "text/plain": [
       "<matplotlib.text.Text at 0xba91940>"
      ]
     },
     "execution_count": 38,
     "metadata": {},
     "output_type": "execute_result"
    },
    {
     "data": {
      "image/png": "[encoded data removed]",
      "text/plain": [
       "<matplotlib.figure.Figure at 0xb42b160>"
      ]
     },
     "metadata": {},
     "output_type": "display_data"
    }
   ],
   "source": [
    "# plot mean square error for each fold\n",
    "m_log_alphascv = -np.log10(model.cv_alphas_)\n",
    "plt.figure()\n",
    "plt.plot(m_log_alphascv, model.cv_mse_path_, ':')\n",
    "plt.plot(m_log_alphascv, model.cv_mse_path_.mean(axis=-1), 'k',\n",
    "         label='Average across the folds', linewidth=2)\n",
    "plt.axvline(-np.log10(model.alpha_), linestyle='--', color='k',\n",
    "            label='alpha CV')\n",
    "plt.legend()\n",
    "plt.xlabel('-log(alpha)')\n",
    "plt.ylabel('Mean squared error')\n",
    "plt.title('Mean squared error on each fold')"
   ]
  },
  {
   "cell_type": "code",
   "execution_count": 39,
   "metadata": {
    "collapsed": false
   },
   "outputs": [
    {
     "name": "stdout",
     "output_type": "stream",
     "text": [
      "training data MSE\n",
      "30.4933837953\n",
      "test data MSE\n",
      "60.0602472941\n"
     ]
    }
   ],
   "source": [
    "# MSE from training and test data\n",
    "from sklearn.metrics import mean_squared_error\n",
    "train_error = mean_squared_error(tar_train, model.predict(pred_train))\n",
    "test_error = mean_squared_error(tar_test, model.predict(pred_test))\n",
    "print ('training data MSE')\n",
    "print(train_error)\n",
    "print ('test data MSE')\n",
    "print(test_error)"
   ]
  },
  {
   "cell_type": "code",
   "execution_count": 40,
   "metadata": {
    "collapsed": false
   },
   "outputs": [
    {
     "name": "stdout",
     "output_type": "stream",
     "text": [
      "training data R-square\n",
      "0.0\n",
      "test data R-square\n",
      "-7.67962664041e-05\n"
     ]
    }
   ],
   "source": [
    "# R-square from training and test data\n",
    "rsquared_train=model.score(pred_train,tar_train)\n",
    "rsquared_test=model.score(pred_test,tar_test)\n",
    "print ('training data R-square')\n",
    "print(rsquared_train)\n",
    "print ('test data R-square')\n",
    "print(rsquared_test)"
   ]
  },
  {
   "cell_type": "code",
   "execution_count": null,
   "metadata": {
    "collapsed": true
   },
   "outputs": [],
   "source": []
  }
 ],
 "metadata": {
  "kernelspec": {
   "display_name": "Python 3",
   "language": "python",
   "name": "python3"
  },
  "language_info": {
   "codemirror_mode": {
    "name": "ipython",
    "version": 3
   },
   "file_extension": ".py",
   "mimetype": "text/x-python",
   "name": "python",
   "nbconvert_exporter": "python",
   "pygments_lexer": "ipython3",
   "version": "3.5.1"
  }
 },
 "nbformat": 4,
 "nbformat_minor": 0
}
