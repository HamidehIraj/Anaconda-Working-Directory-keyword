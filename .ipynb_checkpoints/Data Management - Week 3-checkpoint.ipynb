{
 "cells": [
  {
   "cell_type": "code",
   "execution_count": 3,
   "metadata": {
    "collapsed": true
   },
   "outputs": [],
   "source": [
    "## Loading Libraries\n",
    "import pandas\n",
    "import numpy"
   ]
  },
  {
   "cell_type": "code",
   "execution_count": 4,
   "metadata": {
    "collapsed": false
   },
   "outputs": [
    {
     "name": "stdout",
     "output_type": "stream",
     "text": [
      "213\n",
      "16\n"
     ]
    }
   ],
   "source": [
    "## loading Data\n",
    "gap = pandas.read_csv('gapminder.csv')\n",
    "print(len(gap))\n",
    "print(len(gap.columns))\n",
    "\n",
    "## converting variable names to lower case\n",
    "gap.columns=map(str.lower, gap.columns)"
   ]
  },
  {
   "cell_type": "code",
   "execution_count": 5,
   "metadata": {
    "collapsed": false
   },
   "outputs": [
    {
     "name": "stdout",
     "output_type": "stream",
     "text": [
      "(179, 16)\n"
     ]
    }
   ],
   "source": [
    "## Preparing Data\n",
    "\n",
    "gap['alcconsumption']   = pandas.to_numeric(gap['alcconsumption'],  errors='coerce')\n",
    "gap['incomeperperson']  = pandas.to_numeric(gap['incomeperperson'], errors='coerce')\n",
    "\n",
    "gap = gap[(gap['alcconsumption']>0) & (gap['incomeperperson']>0) ]\n",
    "\n",
    "print(gap.shape)"
   ]
  },
  {
   "cell_type": "code",
   "execution_count": 29,
   "metadata": {
    "collapsed": false
   },
   "outputs": [
    {
     "name": "stdout",
     "output_type": "stream",
     "text": [
      "Alcohol Consumption Summary\n",
      "count    179.000000\n",
      "mean       6.840950\n",
      "std        4.900727\n",
      "min        0.050000\n",
      "25%        2.730000\n",
      "50%        6.120000\n",
      "75%       10.035000\n",
      "max       23.010000\n",
      "Name: alcconsumption, dtype: float64\n",
      "\n",
      "\n",
      "Income per Person Summary\n",
      "count      179.000000\n",
      "mean      7064.702804\n",
      "std      10121.224009\n",
      "min        103.775857\n",
      "25%        718.223431\n",
      "50%       2425.471293\n",
      "75%       8529.823454\n",
      "max      52301.587179\n",
      "Name: incomeperperson, dtype: float64\n"
     ]
    }
   ],
   "source": [
    "print(\"Alcohol Consumption Summary\")\n",
    "print(gap.alcconsumption.describe())\n",
    "\n",
    "print('\\n')\n",
    "\n",
    "print('Income per Person Summary')\n",
    "print(gap.incomeperperson.describe())"
   ]
  },
  {
   "cell_type": "code",
   "execution_count": 12,
   "metadata": {
    "collapsed": false
   },
   "outputs": [
    {
     "name": "stdout",
     "output_type": "stream",
     "text": [
      "income per person quartiles\n",
      "1st quartile    45\n",
      "2nd quartile    45\n",
      "3rd quartile    44\n",
      "4th quartile    45\n",
      "dtype: int64\n"
     ]
    },
    {
     "data": {
      "text/html": [
       "<div>\n",
       "<table border=\"1\" class=\"dataframe\">\n",
       "  <thead>\n",
       "    <tr style=\"text-align: right;\">\n",
       "      <th></th>\n",
       "      <th>country</th>\n",
       "      <th>alcconsumption</th>\n",
       "      <th>incomeperperson</th>\n",
       "      <th>incomeperperson_cat</th>\n",
       "    </tr>\n",
       "  </thead>\n",
       "  <tbody>\n",
       "    <tr>\n",
       "      <th>1</th>\n",
       "      <td>Albania</td>\n",
       "      <td>7.29</td>\n",
       "      <td>1914.996551</td>\n",
       "      <td>2nd quartile</td>\n",
       "    </tr>\n",
       "    <tr>\n",
       "      <th>2</th>\n",
       "      <td>Algeria</td>\n",
       "      <td>0.69</td>\n",
       "      <td>2231.993335</td>\n",
       "      <td>2nd quartile</td>\n",
       "    </tr>\n",
       "    <tr>\n",
       "      <th>3</th>\n",
       "      <td>Andorra</td>\n",
       "      <td>10.17</td>\n",
       "      <td>21943.339898</td>\n",
       "      <td>4th quartile</td>\n",
       "    </tr>\n",
       "    <tr>\n",
       "      <th>4</th>\n",
       "      <td>Angola</td>\n",
       "      <td>5.57</td>\n",
       "      <td>1381.004268</td>\n",
       "      <td>2nd quartile</td>\n",
       "    </tr>\n",
       "    <tr>\n",
       "      <th>5</th>\n",
       "      <td>Antigua and Barbuda</td>\n",
       "      <td>8.17</td>\n",
       "      <td>11894.464075</td>\n",
       "      <td>4th quartile</td>\n",
       "    </tr>\n",
       "    <tr>\n",
       "      <th>6</th>\n",
       "      <td>Argentina</td>\n",
       "      <td>9.35</td>\n",
       "      <td>10749.419238</td>\n",
       "      <td>4th quartile</td>\n",
       "    </tr>\n",
       "    <tr>\n",
       "      <th>7</th>\n",
       "      <td>Armenia</td>\n",
       "      <td>13.66</td>\n",
       "      <td>1326.741757</td>\n",
       "      <td>2nd quartile</td>\n",
       "    </tr>\n",
       "    <tr>\n",
       "      <th>9</th>\n",
       "      <td>Australia</td>\n",
       "      <td>10.21</td>\n",
       "      <td>25249.986061</td>\n",
       "      <td>4th quartile</td>\n",
       "    </tr>\n",
       "    <tr>\n",
       "      <th>10</th>\n",
       "      <td>Austria</td>\n",
       "      <td>12.40</td>\n",
       "      <td>26692.984107</td>\n",
       "      <td>4th quartile</td>\n",
       "    </tr>\n",
       "    <tr>\n",
       "      <th>11</th>\n",
       "      <td>Azerbaijan</td>\n",
       "      <td>13.34</td>\n",
       "      <td>2344.896916</td>\n",
       "      <td>2nd quartile</td>\n",
       "    </tr>\n",
       "  </tbody>\n",
       "</table>\n",
       "</div>"
      ],
      "text/plain": [
       "                country  alcconsumption  incomeperperson incomeperperson_cat\n",
       "1               Albania            7.29      1914.996551        2nd quartile\n",
       "2               Algeria            0.69      2231.993335        2nd quartile\n",
       "3               Andorra           10.17     21943.339898        4th quartile\n",
       "4                Angola            5.57      1381.004268        2nd quartile\n",
       "5   Antigua and Barbuda            8.17     11894.464075        4th quartile\n",
       "6             Argentina            9.35     10749.419238        4th quartile\n",
       "7               Armenia           13.66      1326.741757        2nd quartile\n",
       "9             Australia           10.21     25249.986061        4th quartile\n",
       "10              Austria           12.40     26692.984107        4th quartile\n",
       "11           Azerbaijan           13.34      2344.896916        2nd quartile"
      ]
     },
     "execution_count": 12,
     "metadata": {},
     "output_type": "execute_result"
    }
   ],
   "source": [
    "## Creating a categorical variable\n",
    "gap['incomeperperson_cat']=pandas.qcut(gap.incomeperperson, 4, \n",
    "    labels=[\"1st quartile\",\"2nd quartile\",\"3rd quartile\",\"4th quartile\"])\n",
    "\n",
    "print(\"income per person quartiles\")\n",
    "category1 = gap[\"incomeperperson_cat\"].value_counts(sort=False)\n",
    "print(category1)\n",
    "\n",
    "gap[['country','alcconsumption', 'incomeperperson', 'incomeperperson_cat']] .head(n=10)"
   ]
  },
  {
   "cell_type": "code",
   "execution_count": 23,
   "metadata": {
    "collapsed": false
   },
   "outputs": [
    {
     "name": "stdout",
     "output_type": "stream",
     "text": [
      "         country  alcconsumption  incomeperperson incomeperperson_cat\n",
      "14    Bangladesh            0.17       558.062877        1st quartile\n",
      "19         Benin            2.08       377.039699        1st quartile\n",
      "28  Burkina Faso            7.32       276.200413        1st quartile\n",
      "29       Burundi            9.65       115.305996        1st quartile\n",
      "30      Cambodia            4.71       557.947513        1st quartile\n",
      "\n",
      "\n",
      "       country  alcconsumption  incomeperperson incomeperperson_cat\n",
      "1      Albania            7.29      1914.996551        2nd quartile\n",
      "2      Algeria            0.69      2231.993335        2nd quartile\n",
      "4       Angola            5.57      1381.004268        2nd quartile\n",
      "7      Armenia           13.66      1326.741757        2nd quartile\n",
      "11  Azerbaijan           13.34      2344.896916        2nd quartile\n",
      "\n",
      "\n",
      "     country  alcconsumption  incomeperperson incomeperperson_cat\n",
      "16   Belarus           18.85      2737.670379        3rd quartile\n",
      "18    Belize            5.92      3545.652174        3rd quartile\n",
      "24  Botswana            6.97      4189.436587        3rd quartile\n",
      "25    Brazil           10.08      4699.411262        3rd quartile\n",
      "27  Bulgaria           11.40      2549.558474        3rd quartile\n",
      "\n",
      "\n",
      "                country  alcconsumption  incomeperperson incomeperperson_cat\n",
      "3               Andorra           10.17     21943.339898        4th quartile\n",
      "5   Antigua and Barbuda            8.17     11894.464075        4th quartile\n",
      "6             Argentina            9.35     10749.419238        4th quartile\n",
      "9             Australia           10.21     25249.986061        4th quartile\n",
      "10              Austria           12.40     26692.984107        4th quartile\n"
     ]
    }
   ],
   "source": [
    "## checking that quartiles are correct\n",
    "\n",
    "first =gap[(gap['incomeperperson_cat'] == '1st quartile')]\n",
    "print(first[['country','alcconsumption', 'incomeperperson', 'incomeperperson_cat']] .head(n=5))\n",
    "\n",
    "print('\\n')\n",
    "\n",
    "second =gap[(gap['incomeperperson_cat'] == '2nd quartile')]\n",
    "print(second[['country','alcconsumption', 'incomeperperson', 'incomeperperson_cat']] .head(n=5))\n",
    "\n",
    "print('\\n')\n",
    "\n",
    "third =gap[(gap['incomeperperson_cat'] == '3rd quartile')]\n",
    "print(third[['country','alcconsumption', 'incomeperperson', 'incomeperperson_cat']] .head(n=5))\n",
    "\n",
    "print('\\n')\n",
    "\n",
    "fourth =gap[(gap['incomeperperson_cat'] == '4th quartile')]\n",
    "print(fourth[['country','alcconsumption', 'incomeperperson', 'incomeperperson_cat']] .head(n=5))\n",
    "\n"
   ]
  },
  {
   "cell_type": "code",
   "execution_count": null,
   "metadata": {
    "collapsed": true
   },
   "outputs": [],
   "source": []
  }
 ],
 "metadata": {
  "kernelspec": {
   "display_name": "Python 3",
   "language": "python",
   "name": "python3"
  },
  "language_info": {
   "codemirror_mode": {
    "name": "ipython",
    "version": 3
   },
   "file_extension": ".py",
   "mimetype": "text/x-python",
   "name": "python",
   "nbconvert_exporter": "python",
   "pygments_lexer": "ipython3",
   "version": "3.5.1"
  }
 },
 "nbformat": 4,
 "nbformat_minor": 0
}
