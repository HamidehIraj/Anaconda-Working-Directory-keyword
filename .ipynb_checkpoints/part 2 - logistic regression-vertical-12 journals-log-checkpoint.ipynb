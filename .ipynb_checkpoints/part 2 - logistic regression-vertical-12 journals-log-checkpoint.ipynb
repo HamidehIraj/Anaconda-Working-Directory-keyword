{
 "cells": [
  {
   "cell_type": "markdown",
   "metadata": {},
   "source": [
    "# Loading Data"
   ]
  },
  {
   "cell_type": "code",
   "execution_count": 1,
   "metadata": {
    "collapsed": false
   },
   "outputs": [
    {
     "data": {
      "text/html": [
       "5875"
      ],
      "text/latex": [
       "5875"
      ],
      "text/markdown": [
       "5875"
      ],
      "text/plain": [
       "[1] 5875"
      ]
     },
     "execution_count": 1,
     "metadata": {},
     "output_type": "execute_result"
    }
   ],
   "source": [
    "data <- read.csv(\"D:/Research/keyword/Keyword/All/12 journals.csv\")\n",
    "nrow(data)\n",
    "# str(data)"
   ]
  },
  {
   "cell_type": "markdown",
   "metadata": {},
   "source": [
    "# Transforming Variables"
   ]
  },
  {
   "cell_type": "code",
   "execution_count": 2,
   "metadata": {
    "collapsed": false
   },
   "outputs": [
    {
     "data": {
      "text/html": [
       "<ol class=list-inline>\n",
       "</ol>\n"
      ],
      "text/latex": [
       "\\begin{enumerate*}\n",
       "\\end{enumerate*}\n"
      ],
      "text/markdown": [
       "\n",
       "\n"
      ],
      "text/plain": [
       "integer(0)"
      ]
     },
     "execution_count": 2,
     "metadata": {},
     "output_type": "execute_result"
    },
    {
     "data": {
      "text/html": [
       "<dl class=dl-horizontal>\n",
       "\t<dt>0</dt>\n",
       "\t\t<dd>859</dd>\n",
       "\t<dt>1</dt>\n",
       "\t\t<dd>5016</dd>\n",
       "</dl>\n"
      ],
      "text/latex": [
       "\\begin{description*}\n",
       "\\item[0] 859\n",
       "\\item[1] 5016\n",
       "\\end{description*}\n"
      ],
      "text/markdown": [
       "0\n",
       ":   8591\n",
       ":   5016\n",
       "\n"
      ],
      "text/plain": [
       "   0    1 \n",
       " 859 5016 "
      ]
     },
     "execution_count": 2,
     "metadata": {},
     "output_type": "execute_result"
    }
   ],
   "source": [
    "na_index <- which(is.na(data$cited.by))\n",
    "na_index\n",
    "data[na_index, \"cited.by\"] <- 0\n",
    "\n",
    "data$cited.by.positive <- 0\n",
    "\n",
    "for (row in 1:nrow(data))\n",
    "    {if (data[row,\"cited.by\"]   > 0 ) data[row,\"cited.by.positive\"] <- 1 }\n",
    "     \n",
    "data$cited.by.positive <- as.factor(data$cited.by.positive)\n",
    "#data$cited.by.positive\n",
    "summary(data$cited.by.positive)"
   ]
  },
  {
   "cell_type": "markdown",
   "metadata": {
    "collapsed": false
   },
   "source": [
    "# Data Cleaning"
   ]
  },
  {
   "cell_type": "code",
   "execution_count": 7,
   "metadata": {
    "collapsed": false
   },
   "outputs": [],
   "source": [
    "# nrow(data)\n",
    "# summary(data$cited.by_scaled)\n",
    "\n",
    "# data <- data[data$cited.by_scaled <4,]\n",
    "# nrow(data)\n",
    "# summary(data$cited.by_scaled)"
   ]
  },
  {
   "cell_type": "code",
   "execution_count": 20,
   "metadata": {
    "collapsed": false
   },
   "outputs": [],
   "source": [
    "# cited.by.table <- table(data$cited.by)\n",
    "# # cited.by.table\n",
    "# # round(prop.table(cited.by.table),2) # row percentages \n",
    "# rbind(cited.by.table,round(prop.table(cited.by.table),2))\n",
    "\n",
    "# ##------------------------------------\n",
    "# cited.by.table <- table(log(data$cited.by_zero))\n",
    "# # cited.by.table\n",
    "# # round(prop.table(cited.by.table),2) # row percentages \n",
    "# rbind(cited.by.table,round(prop.table(cited.by.table),2))"
   ]
  },
  {
   "cell_type": "markdown",
   "metadata": {},
   "source": [
    "# Creating New Target Variables"
   ]
  },
  {
   "cell_type": "code",
   "execution_count": 8,
   "metadata": {
    "collapsed": false
   },
   "outputs": [],
   "source": [
    "# data$cited.by_zero <- 0\n",
    "\n",
    "\n",
    "# for (row in 1:nrow(data))\n",
    "#     {if (data[row,\"cited.by\"] == 0 ) data[row,\"cited.by_zero\"] <- data[row,\"cited.by\"] + 0.5\n",
    "#     else data[row,\"cited.by_zero\"] <- data[row,\"cited.by\"] }\n",
    "     \n",
    "# #hist(log(data$cited.by_zero))\n",
    "    \n",
    "     \n",
    "# hist   (log(data$cited.by_zero))\n",
    "# #barplot(log(data$cited.by_zero))\n"
   ]
  },
  {
   "cell_type": "markdown",
   "metadata": {},
   "source": [
    "# Part 2: Predicting no citation(0) and positive citation(1)"
   ]
  },
  {
   "cell_type": "code",
   "execution_count": 11,
   "metadata": {
    "collapsed": false
   },
   "outputs": [
    {
     "data": {
      "text/html": [
       "0"
      ],
      "text/latex": [
       "0"
      ],
      "text/markdown": [
       "0"
      ],
      "text/plain": [
       "[1] 0"
      ]
     },
     "execution_count": 11,
     "metadata": {},
     "output_type": "execute_result"
    },
    {
     "data": {
      "text/html": [
       "0"
      ],
      "text/latex": [
       "0"
      ],
      "text/markdown": [
       "0"
      ],
      "text/plain": [
       "[1] 0"
      ]
     },
     "execution_count": 11,
     "metadata": {},
     "output_type": "execute_result"
    },
    {
     "data": {
      "text/html": [
       "0"
      ],
      "text/latex": [
       "0"
      ],
      "text/markdown": [
       "0"
      ],
      "text/plain": [
       "[1] 0"
      ]
     },
     "execution_count": 11,
     "metadata": {},
     "output_type": "execute_result"
    }
   ],
   "source": [
    "sum(data$page.count<0)\n",
    "sum(data$no_references<0)\n",
    "sum(data$no_authors<0)"
   ]
  },
  {
   "cell_type": "code",
   "execution_count": 7,
   "metadata": {
    "collapsed": false
   },
   "outputs": [
    {
     "name": "stderr",
     "output_type": "stream",
     "text": [
      "Warning message:\n",
      "In eval(expr, envir, enclos): non-integer #successes in a binomial glm!Warning message:\n",
      ": glm.fit: algorithm did not convergeWarning message:\n",
      ": glm.fit: fitted probabilities numerically 0 or 1 occurred"
     ]
    },
    {
     "data": {
      "text/plain": [
       "\n",
       "Call:\n",
       "glm(formula = cited.by.positive ~ ., family = binomial(link = \"logit\"), \n",
       "    data = pred_data, weights = abstract_length + log(page.count) + \n",
       "        title_length + abstract_ratio + log(no_references) + \n",
       "        log(no_authors) + numkeys + article_age + weight_ratio)\n",
       "\n",
       "Deviance Residuals: \n",
       "   Min      1Q  Median      3Q     Max  \n",
       "-188.1     0.0     0.0     0.0     0.0  \n",
       "\n",
       "Coefficients:\n",
       "                  Estimate Std. Error    z value Pr(>|z|)    \n",
       "(Intercept)      2.979e+14  4.406e+05  6.762e+08   <2e-16 ***\n",
       "abstract_length -3.095e+11  1.111e+03 -2.784e+08   <2e-16 ***\n",
       "page.count       9.570e+12  1.752e+04  5.463e+08   <2e-16 ***\n",
       "title_length    -7.790e+12  1.549e+04 -5.030e+08   <2e-16 ***\n",
       "abstract_ratio   1.775e+15  2.684e+06  6.614e+08   <2e-16 ***\n",
       "no_references    3.738e+12  2.986e+03  1.252e+09   <2e-16 ***\n",
       "no_authors       1.261e+13  4.521e+04  2.789e+08   <2e-16 ***\n",
       "numkeys         -1.035e+13  5.100e+04 -2.030e+08   <2e-16 ***\n",
       "article_age      2.025e+14  2.193e+04  9.237e+09   <2e-16 ***\n",
       "weight_ratio     1.004e+15  1.978e+06  5.079e+08   <2e-16 ***\n",
       "quartileq2      -2.269e+14  1.839e+05 -1.234e+09   <2e-16 ***\n",
       "quartileq3      -5.312e+14  2.354e+05 -2.257e+09   <2e-16 ***\n",
       "quartileq4      -4.529e+14  4.232e+05 -1.070e+09   <2e-16 ***\n",
       "---\n",
       "Signif. codes:  0 '***' 0.001 '**' 0.01 '*' 0.05 '.' 0.1 ' ' 1\n",
       "\n",
       "(Dispersion parameter for binomial family taken to be 1)\n",
       "\n",
       "    Null deviance:   916049  on 5874  degrees of freedom\n",
       "Residual deviance: 11510838  on 5862  degrees of freedom\n",
       "AIC: 11510495\n",
       "\n",
       "Number of Fisher Scoring iterations: 25\n"
      ]
     },
     "execution_count": 7,
     "metadata": {},
     "output_type": "execute_result"
    }
   ],
   "source": [
    "#names(data)\n",
    "pred_numeric <- c(\"abstract_length\" ,\"page.count\",\"title_length\", \"abstract_ratio\" ,\"no_references\",\"no_authors\"\n",
    ",\"numkeys\",\"article_age\",\"weight_ratio\")\n",
    "pred_cat     <- c(\"quartile\",\"cited.by.positive\")\n",
    "\n",
    "pred_data  <- data[,c(pred_numeric,pred_cat)]\n",
    "\n",
    "logistic   <- glm(cited.by.positive ~ ., abstract_length +log(page.count)+title_length+ abstract_ratio \n",
    "                  +log(no_references)+log(no_authors)+numkeys+article_age+weight_ratio\n",
    "                  ,\n",
    "                  family=binomial(link='logit'), data=pred_data)\n",
    "summary(logistic)\n",
    "#ound(logistic$coeff,3)\n",
    "#summary(logistic)$coefficients[,4] "
   ]
  },
  {
   "cell_type": "code",
   "execution_count": 10,
   "metadata": {
    "collapsed": false
   },
   "outputs": [
    {
     "data": {
      "text/html": [
       "\"factor\""
      ],
      "text/latex": [
       "\"factor\""
      ],
      "text/markdown": [
       "\"factor\""
      ],
      "text/plain": [
       "[1] \"factor\""
      ]
     },
     "execution_count": 10,
     "metadata": {},
     "output_type": "execute_result"
    },
    {
     "data": {
      "text/html": [
       "\"factor\""
      ],
      "text/latex": [
       "\"factor\""
      ],
      "text/markdown": [
       "\"factor\""
      ],
      "text/plain": [
       "[1] \"factor\""
      ]
     },
     "execution_count": 10,
     "metadata": {},
     "output_type": "execute_result"
    },
    {
     "data": {
      "text/plain": [
       "   \n",
       "      q1   q2   q3   q4\n",
       "  0  251  298  250   60\n",
       "  1 3727  865  349   75"
      ]
     },
     "execution_count": 10,
     "metadata": {},
     "output_type": "execute_result"
    }
   ],
   "source": [
    "class(data$cited.by.positive)\n",
    "class(data$quarter)\n",
    "table(data$cited.by.positive, data$quarter)"
   ]
  },
  {
   "cell_type": "markdown",
   "metadata": {},
   "source": [
    "# Model Selection"
   ]
  },
  {
   "cell_type": "code",
   "execution_count": 5,
   "metadata": {
    "collapsed": false
   },
   "outputs": [],
   "source": [
    "# logistic_step <- step(logistic)\n",
    "# logistic_step"
   ]
  },
  {
   "cell_type": "code",
   "execution_count": 6,
   "metadata": {
    "collapsed": false
   },
   "outputs": [],
   "source": [
    "# logistic_final <- glm(formula = cited.by.positive ~ abstract_length + page.count + \n",
    "#     abstract_ratio + no_references + no_authors + article_age + \n",
    "#     source.title, family = binomial(link = \"logit\"), data = pred_data)\n",
    "\n",
    "# summary(logistic_final)"
   ]
  },
  {
   "cell_type": "code",
   "execution_count": 8,
   "metadata": {
    "collapsed": false
   },
   "outputs": [
    {
     "ename": "ERROR",
     "evalue": "Error in qqPlot.glm(logistic, main = \"QQ Plot\"): QQ plot for studentized residuals not available for glm\n",
     "output_type": "error",
     "traceback": [
      "Error in qqPlot.glm(logistic, main = \"QQ Plot\"): QQ plot for studentized residuals not available for glm\n"
     ]
    }
   ],
   "source": [
    "require(car,quietly=TRUE)\n",
    "qqPlot(logistic, main=\"QQ Plot\") #qq plot for studentized resid \n",
    "# qqPlot(linear_reg0, main=\"QQ Plot\") #qq plot for studentized resid \n"
   ]
  },
  {
   "cell_type": "markdown",
   "metadata": {},
   "source": [
    "# Outlier Detection"
   ]
  },
  {
   "cell_type": "code",
   "execution_count": 13,
   "metadata": {
    "collapsed": false
   },
   "outputs": [],
   "source": [
    "# influenceIndexPlot <- influenceIndexPlot(linear_reg, id.n=10)\n",
    "# str(influenceIndexPlot)\n",
    "# outlierTest(linear_reg)\n",
    "# data[c(903,908,925),]"
   ]
  },
  {
   "cell_type": "code",
   "execution_count": 14,
   "metadata": {
    "collapsed": false
   },
   "outputs": [],
   "source": [
    "# # Influence Plot \n",
    "# influencePlot(linear_reg,\tid.method=\"identify\", main=\"Influence Plot\", \n",
    "#               sub=\"Circle size is proportial to Cook's Distance\",id.n=10 )"
   ]
  },
  {
   "cell_type": "markdown",
   "metadata": {},
   "source": [
    "# Box-Cox Transformation"
   ]
  },
  {
   "cell_type": "code",
   "execution_count": 16,
   "metadata": {
    "collapsed": false
   },
   "outputs": [],
   "source": [
    "# require(MASS, quietly=TRUE)\n",
    "# require(car, quietly=TRUE)\n",
    "\n",
    "# boxCox <- boxCox(logistic, lambda = seq(-0.1, 0.1, by=0.1))\n",
    "# summary(powerTransform(logistic))\n"
   ]
  },
  {
   "cell_type": "markdown",
   "metadata": {},
   "source": [
    "# Multi-Collinearity"
   ]
  },
  {
   "cell_type": "code",
   "execution_count": 17,
   "metadata": {
    "collapsed": false
   },
   "outputs": [
    {
     "data": {
      "text/html": [
       "<dl class=dl-horizontal>\n",
       "\t<dt>article_age</dt>\n",
       "\t\t<dd>1.6808639379394</dd>\n",
       "\t<dt>page.count</dt>\n",
       "\t\t<dd>1.3157809422602</dd>\n",
       "\t<dt>abstract_length</dt>\n",
       "\t\t<dd>1.09658733362288</dd>\n",
       "\t<dt>title_length</dt>\n",
       "\t\t<dd>1.06112075384953</dd>\n",
       "\t<dt>abstract_ratio</dt>\n",
       "\t\t<dd>1.064322282671</dd>\n",
       "\t<dt>no_references</dt>\n",
       "\t\t<dd>1.62451591926012</dd>\n",
       "\t<dt>no_authors_cat</dt>\n",
       "\t\t<dd>1.0443725470295</dd>\n",
       "\t<dt>source.title</dt>\n",
       "\t\t<dd>1.24818822814002</dd>\n",
       "</dl>\n"
      ],
      "text/latex": [
       "\\begin{description*}\n",
       "\\item[article_age] 1.6808639379394\n",
       "\\item[page.count] 1.3157809422602\n",
       "\\item[abstract_length] 1.09658733362288\n",
       "\\item[title_length] 1.06112075384953\n",
       "\\item[abstract_ratio] 1.064322282671\n",
       "\\item[no_references] 1.62451591926012\n",
       "\\item[no_authors_cat] 1.0443725470295\n",
       "\\item[source.title] 1.24818822814002\n",
       "\\end{description*}\n"
      ],
      "text/markdown": [
       "article_age\n",
       ":   1.6808639379394page.count\n",
       ":   1.3157809422602abstract_length\n",
       ":   1.09658733362288title_length\n",
       ":   1.06112075384953abstract_ratio\n",
       ":   1.064322282671no_references\n",
       ":   1.62451591926012no_authors_cat\n",
       ":   1.0443725470295source.title\n",
       ":   1.24818822814002\n",
       "\n"
      ],
      "text/plain": [
       "    article_age      page.count abstract_length    title_length  abstract_ratio \n",
       "       1.680864        1.315781        1.096587        1.061121        1.064322 \n",
       "  no_references  no_authors_cat    source.title \n",
       "       1.624516        1.044373        1.248188 "
      ]
     },
     "execution_count": 17,
     "metadata": {},
     "output_type": "execute_result"
    },
    {
     "data": {
      "text/html": [
       "<dl class=dl-horizontal>\n",
       "\t<dt>article_age</dt>\n",
       "\t\t<dd>FALSE</dd>\n",
       "\t<dt>page.count</dt>\n",
       "\t\t<dd>FALSE</dd>\n",
       "\t<dt>abstract_length</dt>\n",
       "\t\t<dd>FALSE</dd>\n",
       "\t<dt>title_length</dt>\n",
       "\t\t<dd>FALSE</dd>\n",
       "\t<dt>abstract_ratio</dt>\n",
       "\t\t<dd>FALSE</dd>\n",
       "\t<dt>no_references</dt>\n",
       "\t\t<dd>FALSE</dd>\n",
       "\t<dt>no_authors_cat</dt>\n",
       "\t\t<dd>FALSE</dd>\n",
       "\t<dt>source.title</dt>\n",
       "\t\t<dd>FALSE</dd>\n",
       "</dl>\n"
      ],
      "text/latex": [
       "\\begin{description*}\n",
       "\\item[article_age] FALSE\n",
       "\\item[page.count] FALSE\n",
       "\\item[abstract_length] FALSE\n",
       "\\item[title_length] FALSE\n",
       "\\item[abstract_ratio] FALSE\n",
       "\\item[no_references] FALSE\n",
       "\\item[no_authors_cat] FALSE\n",
       "\\item[source.title] FALSE\n",
       "\\end{description*}\n"
      ],
      "text/markdown": [
       "article_age\n",
       ":   FALSEpage.count\n",
       ":   FALSEabstract_length\n",
       ":   FALSEtitle_length\n",
       ":   FALSEabstract_ratio\n",
       ":   FALSEno_references\n",
       ":   FALSEno_authors_cat\n",
       ":   FALSEsource.title\n",
       ":   FALSE\n",
       "\n"
      ],
      "text/plain": [
       "    article_age      page.count abstract_length    title_length  abstract_ratio \n",
       "          FALSE           FALSE           FALSE           FALSE           FALSE \n",
       "  no_references  no_authors_cat    source.title \n",
       "          FALSE           FALSE           FALSE "
      ]
     },
     "execution_count": 17,
     "metadata": {},
     "output_type": "execute_result"
    }
   ],
   "source": [
    "require(car,quietly=TRUE)\n",
    "# Evaluate Collinearity\n",
    "\n",
    "vif(logistic) # variance inflation factors \n",
    "# ??vif\n",
    "sqrt(vif(logistic)) > 2 # problem?\n",
    "##---------------------------------------------\n"
   ]
  },
  {
   "cell_type": "code",
   "execution_count": 23,
   "metadata": {
    "collapsed": false
   },
   "outputs": [
    {
     "name": "stderr",
     "output_type": "stream",
     "text": [
      "Waiting for profiling to be done...\n"
     ]
    },
    {
     "data": {
      "text/html": [
       "<table>\n",
       "<thead><tr><th></th><th scope=col>2.5 %</th><th scope=col>97.5 %</th></tr></thead>\n",
       "<tbody>\n",
       "\t<tr><th scope=row>(Intercept)</th><td>-1.28</td><td>-0.02</td></tr>\n",
       "\t<tr><th scope=row>abstract_length</th><td>0</td><td>0</td></tr>\n",
       "\t<tr><th scope=row>page.count</th><td>-0.08</td><td>-0.02</td></tr>\n",
       "\t<tr><th scope=row>title_length</th><td>-0.03</td><td> 0.01</td></tr>\n",
       "\t<tr><th scope=row>abstract_ratio</th><td>1.66</td><td>8.83</td></tr>\n",
       "\t<tr><th scope=row>no_references</th><td>0.01</td><td>0.02</td></tr>\n",
       "\t<tr><th scope=row>no_authors</th><td>-0.01</td><td> 0.12</td></tr>\n",
       "\t<tr><th scope=row>weight_ratio</th><td>0.34</td><td>6.94</td></tr>\n",
       "\t<tr><th scope=row>numkeys</th><td>-0.08</td><td> 0.08</td></tr>\n",
       "\t<tr><th scope=row>article_age</th><td>0.6</td><td>0.7</td></tr>\n",
       "\t<tr><th scope=row>quarterq2</th><td>-1.41</td><td>-0.94</td></tr>\n",
       "\t<tr><th scope=row>quarterq3</th><td>-2.52</td><td>-1.96</td></tr>\n",
       "\t<tr><th scope=row>quarterq4</th><td>-2.99</td><td>-2.11</td></tr>\n",
       "</tbody>\n",
       "</table>\n"
      ],
      "text/latex": [
       "\\begin{tabular}{r|ll}\n",
       "  & 2.5 % & 97.5 %\\\\\n",
       "\\hline\n",
       "\t(Intercept) & -1.28 & -0.02\\\\\n",
       "\tabstract_length & 0 & 0\\\\\n",
       "\tpage.count & -0.08 & -0.02\\\\\n",
       "\ttitle_length & -0.03 &  0.01\\\\\n",
       "\tabstract_ratio & 1.66 & 8.83\\\\\n",
       "\tno_references & 0.01 & 0.02\\\\\n",
       "\tno_authors & -0.01 &  0.12\\\\\n",
       "\tweight_ratio & 0.34 & 6.94\\\\\n",
       "\tnumkeys & -0.08 &  0.08\\\\\n",
       "\tarticle_age & 0.6 & 0.7\\\\\n",
       "\tquarterq2 & -1.41 & -0.94\\\\\n",
       "\tquarterq3 & -2.52 & -1.96\\\\\n",
       "\tquarterq4 & -2.99 & -2.11\\\\\n",
       "\\end{tabular}\n"
      ],
      "text/markdown": [
       "1. -1.28\n",
       "2. 0\n",
       "3. -0.08\n",
       "4. -0.03\n",
       "5. 1.66\n",
       "6. 0.01\n",
       "7. -0.01\n",
       "8. 0.34\n",
       "9. -0.08\n",
       "10. 0.6\n",
       "11. -1.41\n",
       "12. -2.52\n",
       "13. -2.99\n",
       "14. -0.02\n",
       "15. 0\n",
       "16. -0.02\n",
       "17. 0.01\n",
       "18. 8.83\n",
       "19. 0.02\n",
       "20. 0.12\n",
       "21. 6.94\n",
       "22. 0.08\n",
       "23. 0.7\n",
       "24. -0.94\n",
       "25. -1.96\n",
       "26. -2.11\n",
       "\n",
       "\n"
      ],
      "text/plain": [
       "                2.5 % 97.5 %\n",
       "(Intercept)     -1.28  -0.02\n",
       "abstract_length  0.00   0.00\n",
       "page.count      -0.08  -0.02\n",
       "title_length    -0.03   0.01\n",
       "abstract_ratio   1.66   8.83\n",
       "no_references    0.01   0.02\n",
       "no_authors      -0.01   0.12\n",
       "weight_ratio     0.34   6.94\n",
       "numkeys         -0.08   0.08\n",
       "article_age      0.60   0.70\n",
       "quarterq2       -1.41  -0.94\n",
       "quarterq3       -2.52  -1.96\n",
       "quarterq4       -2.99  -2.11"
      ]
     },
     "execution_count": 23,
     "metadata": {},
     "output_type": "execute_result"
    }
   ],
   "source": [
    "round(confint(logistic),2)"
   ]
  },
  {
   "cell_type": "code",
   "execution_count": 11,
   "metadata": {
    "collapsed": true
   },
   "outputs": [],
   "source": [
    "save.image()"
   ]
  }
 ],
 "metadata": {
  "kernelspec": {
   "display_name": "R",
   "language": "R",
   "name": "ir"
  },
  "language_info": {
   "codemirror_mode": "r",
   "file_extension": ".r",
   "mimetype": "text/x-r-source",
   "name": "R",
   "pygments_lexer": "r",
   "version": "3.1.3"
  }
 },
 "nbformat": 4,
 "nbformat_minor": 0
}
