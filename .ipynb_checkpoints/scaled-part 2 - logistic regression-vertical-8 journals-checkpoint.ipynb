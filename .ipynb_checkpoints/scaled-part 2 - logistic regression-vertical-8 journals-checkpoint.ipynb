{
 "cells": [
  {
   "cell_type": "markdown",
   "metadata": {},
   "source": [
    "# Loading Data"
   ]
  },
  {
   "cell_type": "code",
   "execution_count": 5,
   "metadata": {
    "collapsed": false
   },
   "outputs": [
    {
     "data": {
      "text/html": [
       "3815"
      ],
      "text/latex": [
       "3815"
      ],
      "text/markdown": [
       "3815"
      ],
      "text/plain": [
       "[1] 3815"
      ]
     },
     "execution_count": 5,
     "metadata": {},
     "output_type": "execute_result"
    }
   ],
   "source": [
    "data <- read.csv(\"D:/Research/keyword/Keyword/All/8 journals.csv\")\n",
    "nrow(data)\n"
   ]
  },
  {
   "cell_type": "code",
   "execution_count": 9,
   "metadata": {
    "collapsed": false
   },
   "outputs": [
    {
     "data": {
      "text/html": [
       "1142"
      ],
      "text/latex": [
       "1142"
      ],
      "text/markdown": [
       "1142"
      ],
      "text/plain": [
       "[1] 1142"
      ]
     },
     "execution_count": 9,
     "metadata": {},
     "output_type": "execute_result"
    },
    {
     "data": {
      "text/html": [
       "0"
      ],
      "text/latex": [
       "0"
      ],
      "text/markdown": [
       "0"
      ],
      "text/plain": [
       "[1] 0"
      ]
     },
     "execution_count": 9,
     "metadata": {},
     "output_type": "execute_result"
    },
    {
     "data": {
      "text/html": [
       "2630"
      ],
      "text/latex": [
       "2630"
      ],
      "text/markdown": [
       "2630"
      ],
      "text/plain": [
       "[1] 2630"
      ]
     },
     "execution_count": 9,
     "metadata": {},
     "output_type": "execute_result"
    }
   ],
   "source": [
    "sum(data$cited.by_scaled >0)\n",
    "sum(data$cited.by_scaled ==0)\n",
    "sum(data$cited.by_scaled <0)"
   ]
  },
  {
   "cell_type": "markdown",
   "metadata": {},
   "source": [
    "# Data Cleaning"
   ]
  },
  {
   "cell_type": "code",
   "execution_count": 7,
   "metadata": {
    "collapsed": false
   },
   "outputs": [
    {
     "data": {
      "text/html": [
       "3815"
      ],
      "text/latex": [
       "3815"
      ],
      "text/markdown": [
       "3815"
      ],
      "text/plain": [
       "[1] 3815"
      ]
     },
     "execution_count": 7,
     "metadata": {},
     "output_type": "execute_result"
    },
    {
     "data": {
      "text/plain": [
       "   Min. 1st Qu.  Median    Mean 3rd Qu.    Max. \n",
       "-0.8171 -0.5339 -0.3008  0.0000  0.1465 12.7100 "
      ]
     },
     "execution_count": 7,
     "metadata": {},
     "output_type": "execute_result"
    },
    {
     "data": {
      "text/html": [
       "3772"
      ],
      "text/latex": [
       "3772"
      ],
      "text/markdown": [
       "3772"
      ],
      "text/plain": [
       "[1] 3772"
      ]
     },
     "execution_count": 7,
     "metadata": {},
     "output_type": "execute_result"
    },
    {
     "data": {
      "text/plain": [
       "    Min.  1st Qu.   Median     Mean  3rd Qu.     Max. \n",
       "-0.81710 -0.53390 -0.30080 -0.06781  0.11890  3.96100 "
      ]
     },
     "execution_count": 7,
     "metadata": {},
     "output_type": "execute_result"
    }
   ],
   "source": [
    "nrow(data)\n",
    "summary(data$cited.by_scaled)\n",
    "\n",
    "data <- data[data$cited.by_scaled <4,]\n",
    "nrow(data)\n",
    "summary(data$cited.by_scaled)"
   ]
  },
  {
   "cell_type": "markdown",
   "metadata": {},
   "source": [
    "# Transforming Variables"
   ]
  },
  {
   "cell_type": "code",
   "execution_count": 8,
   "metadata": {
    "collapsed": false
   },
   "outputs": [
    {
     "data": {
      "text/html": [
       "<dl class=dl-horizontal>\n",
       "\t<dt>0</dt>\n",
       "\t\t<dd>2630</dd>\n",
       "\t<dt>1</dt>\n",
       "\t\t<dd>1142</dd>\n",
       "</dl>\n"
      ],
      "text/latex": [
       "\\begin{description*}\n",
       "\\item[0] 2630\n",
       "\\item[1] 1142\n",
       "\\end{description*}\n"
      ],
      "text/markdown": [
       "0\n",
       ":   26301\n",
       ":   1142\n",
       "\n"
      ],
      "text/plain": [
       "   0    1 \n",
       "2630 1142 "
      ]
     },
     "execution_count": 8,
     "metadata": {},
     "output_type": "execute_result"
    }
   ],
   "source": [
    "na_index <- which(is.na(data$cited.by))\n",
    "#na_index\n",
    "data[na_index, \"cited.by\"] <- 0\n",
    "\n",
    "data$cited.by.positive.scaled <- 0\n",
    "\n",
    "for (row in 1:nrow(data))\n",
    "    {if (data[row,\"cited.by_scaled\"]   > 0 ) data[row,\"cited.by.positive.scaled\"] <- 1 }\n",
    "     \n",
    "data$cited.by.positive.scaled <- as.factor(data$cited.by.positive.scaled)\n",
    "summary(data$cited.by.positive.scaled)"
   ]
  },
  {
   "cell_type": "code",
   "execution_count": 4,
   "metadata": {
    "collapsed": false
   },
   "outputs": [],
   "source": [
    "# str(data)"
   ]
  },
  {
   "cell_type": "code",
   "execution_count": 5,
   "metadata": {
    "collapsed": false
   },
   "outputs": [],
   "source": [
    "# cited.by.table <- table(data$cited.by)\n",
    "# # cited.by.table\n",
    "# # round(prop.table(cited.by.table),2) # row percentages \n",
    "# rbind(cited.by.table,round(prop.table(cited.by.table),2))\n",
    "\n",
    "# ##------------------------------------\n",
    "# cited.by.table <- table(log(data$cited.by_zero))\n",
    "# # cited.by.table\n",
    "# # round(prop.table(cited.by.table),2) # row percentages \n",
    "# rbind(cited.by.table,round(prop.table(cited.by.table),2))"
   ]
  },
  {
   "cell_type": "markdown",
   "metadata": {},
   "source": [
    "# Creating New Target Variables"
   ]
  },
  {
   "cell_type": "code",
   "execution_count": 11,
   "metadata": {
    "collapsed": false
   },
   "outputs": [],
   "source": [
    "# data$cited.by_zero <- 0\n",
    "\n",
    "\n",
    "# for (row in 1:nrow(data))\n",
    "#     {if (data[row,\"cited.by\"] == 0 ) data[row,\"cited.by_zero\"] <- data[row,\"cited.by\"] + 0.5\n",
    "#     else data[row,\"cited.by_zero\"] <- data[row,\"cited.by\"] }\n",
    "     \n",
    "# #hist(log(data$cited.by_zero))\n",
    "    \n",
    "     \n",
    "# hist   (log(data$cited.by_zero))\n",
    "# #barplot(log(data$cited.by_zero))\n"
   ]
  },
  {
   "cell_type": "markdown",
   "metadata": {},
   "source": [
    "# Part 2: Predicting less than mean(0) and more than mean(1)"
   ]
  },
  {
   "cell_type": "code",
   "execution_count": 10,
   "metadata": {
    "collapsed": false
   },
   "outputs": [
    {
     "data": {
      "text/plain": [
       "\n",
       "Call:\n",
       "glm(formula = cited.by.positive.scaled ~ ., family = binomial(link = \"logit\"), \n",
       "    data = pred_data)\n",
       "\n",
       "Deviance Residuals: \n",
       "    Min       1Q   Median       3Q      Max  \n",
       "-2.7057  -0.8083  -0.5648   1.0633   2.3088  \n",
       "\n",
       "Coefficients:\n",
       "                  Estimate Std. Error z value Pr(>|z|)    \n",
       "(Intercept)     -3.4537014  0.2773968 -12.450  < 2e-16 ***\n",
       "abstract_length  0.0018174  0.0007531   2.413  0.01581 *  \n",
       "page.count      -0.0410925  0.0099904  -4.113 3.90e-05 ***\n",
       "title_length    -0.0045322  0.0095560  -0.474  0.63530    \n",
       "abstract_ratio   3.1235815  1.6409099   1.904  0.05697 .  \n",
       "no_references    0.0150806  0.0017308   8.713  < 2e-16 ***\n",
       "no_authors       0.0723610  0.0274848   2.633  0.00847 ** \n",
       "weight_ratio     1.9707427  1.1240398   1.753  0.07956 .  \n",
       "numkeys         -0.0577449  0.0308295  -1.873  0.06106 .  \n",
       "article_age      0.3060961  0.0151016  20.269  < 2e-16 ***\n",
       "quarterq2        0.8102638  0.1133506   7.148 8.79e-13 ***\n",
       "quarterq3        1.0816467  0.1288042   8.398  < 2e-16 ***\n",
       "quarterq4        0.7025353  0.2761041   2.544  0.01094 *  \n",
       "---\n",
       "Signif. codes:  0 '***' 0.001 '**' 0.01 '*' 0.05 '.' 0.1 ' ' 1\n",
       "\n",
       "(Dispersion parameter for binomial family taken to be 1)\n",
       "\n",
       "    Null deviance: 4625.8  on 3771  degrees of freedom\n",
       "Residual deviance: 4058.4  on 3759  degrees of freedom\n",
       "AIC: 4084.4\n",
       "\n",
       "Number of Fisher Scoring iterations: 4\n"
      ]
     },
     "execution_count": 10,
     "metadata": {},
     "output_type": "execute_result"
    }
   ],
   "source": [
    "pred_numeric <- c(\"abstract_length\" ,\"page.count\",\"title_length\", \"abstract_ratio\" ,\"no_references\",\"no_authors\",\"weight_ratio\"\n",
    ",\"numkeys\",\"article_age\")\n",
    "pred_cat     <- c(\"quarter\",\"cited.by.positive.scaled\")\n",
    "\n",
    "pred_data  <- data[,c(pred_numeric,pred_cat)]\n",
    "\n",
    "logistic   <- glm(cited.by.positive.scaled ~ .,family=binomial(link='logit'), data=pred_data)\n",
    "summary(logistic)"
   ]
  },
  {
   "cell_type": "markdown",
   "metadata": {},
   "source": [
    "# Model Selection"
   ]
  },
  {
   "cell_type": "code",
   "execution_count": 14,
   "metadata": {
    "collapsed": false
   },
   "outputs": [
    {
     "name": "stdout",
     "output_type": "stream",
     "text": [
      "Start:  AIC=3164.71\n",
      "cited.by.positive.scaled ~ abstract_length + page.count + title_length + \n",
      "    abstract_ratio + no_references + no_authors + weight_ratio + \n",
      "    numkeys + article_age + source.title\n",
      "\n",
      "                  Df Deviance    AIC\n",
      "- title_length     1   3138.7 3162.7\n",
      "- weight_ratio     1   3139.0 3163.0\n",
      "- no_authors       1   3140.6 3164.6\n",
      "<none>                 3138.7 3164.7\n",
      "- numkeys          1   3141.3 3165.3\n",
      "- abstract_length  1   3142.1 3166.1\n",
      "- abstract_ratio   1   3142.2 3166.2\n",
      "- page.count       1   3145.6 3169.6\n",
      "- source.title     3   3179.8 3199.8\n",
      "- no_references    1   3187.9 3211.9\n",
      "- article_age      1   3512.8 3536.8\n",
      "\n",
      "Step:  AIC=3162.71\n",
      "cited.by.positive.scaled ~ abstract_length + page.count + abstract_ratio + \n",
      "    no_references + no_authors + weight_ratio + numkeys + article_age + \n",
      "    source.title\n",
      "\n",
      "                  Df Deviance    AIC\n",
      "- weight_ratio     1   3139.0 3161.0\n",
      "- no_authors       1   3140.6 3162.6\n",
      "<none>                 3138.7 3162.7\n",
      "- numkeys          1   3141.3 3163.3\n",
      "- abstract_length  1   3142.1 3164.1\n",
      "- abstract_ratio   1   3142.3 3164.3\n",
      "- page.count       1   3145.6 3167.6\n",
      "- source.title     3   3179.8 3197.8\n",
      "- no_references    1   3188.2 3210.2\n",
      "- article_age      1   3518.8 3540.8\n",
      "\n",
      "Step:  AIC=3160.97\n",
      "cited.by.positive.scaled ~ abstract_length + page.count + abstract_ratio + \n",
      "    no_references + no_authors + numkeys + article_age + source.title\n",
      "\n",
      "                  Df Deviance    AIC\n",
      "- no_authors       1   3140.9 3160.9\n",
      "<none>                 3139.0 3161.0\n",
      "- numkeys          1   3141.4 3161.4\n",
      "- abstract_length  1   3142.3 3162.3\n",
      "- abstract_ratio   1   3142.3 3162.3\n",
      "- page.count       1   3145.9 3165.9\n",
      "- source.title     3   3180.5 3196.5\n",
      "- no_references    1   3189.3 3209.3\n",
      "- article_age      1   3521.4 3541.4\n",
      "\n",
      "Step:  AIC=3160.89\n",
      "cited.by.positive.scaled ~ abstract_length + page.count + abstract_ratio + \n",
      "    no_references + numkeys + article_age + source.title\n",
      "\n",
      "                  Df Deviance    AIC\n",
      "<none>                 3140.9 3160.9\n",
      "- numkeys          1   3143.2 3161.2\n",
      "- abstract_ratio   1   3144.2 3162.2\n",
      "- abstract_length  1   3144.5 3162.5\n",
      "- page.count       1   3147.2 3165.2\n",
      "- source.title     3   3180.5 3194.5\n",
      "- no_references    1   3190.7 3208.7\n",
      "- article_age      1   3523.0 3541.0\n"
     ]
    },
    {
     "data": {
      "text/plain": [
       "\n",
       "Call:  glm(formula = cited.by.positive.scaled ~ abstract_length + page.count + \n",
       "    abstract_ratio + no_references + numkeys + article_age + \n",
       "    source.title, family = binomial(link = \"logit\"), data = pred_data)\n",
       "\n",
       "Coefficients:\n",
       "                               (Intercept)  \n",
       "                                  -2.67068  \n",
       "                           abstract_length  \n",
       "                                   0.00156  \n",
       "                                page.count  \n",
       "                                  -0.03015  \n",
       "                            abstract_ratio  \n",
       "                                   3.23467  \n",
       "                             no_references  \n",
       "                                   0.01584  \n",
       "                                   numkeys  \n",
       "                                  -0.05346  \n",
       "                               article_age  \n",
       "                                   0.31001  \n",
       "       source.titlecomputers and education  \n",
       "                                  -0.57166  \n",
       "source.titlecomputers in education journal  \n",
       "                                  -0.04025  \n",
       "     source.titleperspectives in education  \n",
       "                                   0.27043  \n",
       "\n",
       "Degrees of Freedom: 2891 Total (i.e. Null);  2882 Residual\n",
       "Null Deviance:\t    3570 \n",
       "Residual Deviance: 3141 \tAIC: 3161"
      ]
     },
     "execution_count": 14,
     "metadata": {},
     "output_type": "execute_result"
    }
   ],
   "source": [
    "logistic_step <- step(logistic)\n",
    "logistic_step"
   ]
  },
  {
   "cell_type": "code",
   "execution_count": null,
   "metadata": {
    "collapsed": true
   },
   "outputs": [],
   "source": []
  },
  {
   "cell_type": "code",
   "execution_count": 15,
   "metadata": {
    "collapsed": false
   },
   "outputs": [
    {
     "data": {
      "text/plain": [
       "\n",
       "Call:\n",
       "glm(formula = cited.by.positive.scaled ~ abstract_length + page.count + \n",
       "    abstract_ratio + no_references + numkeys + article_age + \n",
       "    source.title, family = binomial(link = \"logit\"), data = pred_data)\n",
       "\n",
       "Deviance Residuals: \n",
       "    Min       1Q   Median       3Q      Max  \n",
       "-2.2045  -0.8184  -0.5787   1.1057   2.1634  \n",
       "\n",
       "Coefficients:\n",
       "                                             Estimate Std. Error z value\n",
       "(Intercept)                                -2.6706795  0.2737532  -9.756\n",
       "abstract_length                             0.0015598  0.0008215   1.899\n",
       "page.count                                 -0.0301525  0.0120726  -2.498\n",
       "abstract_ratio                              3.2346672  1.7732560   1.824\n",
       "no_references                               0.0158401  0.0022419   7.066\n",
       "numkeys                                    -0.0534610  0.0352991  -1.515\n",
       "article_age                                 0.3100062  0.0177388  17.476\n",
       "source.titlecomputers and education        -0.5716577  0.1276235  -4.479\n",
       "source.titlecomputers in education journal -0.0402474  0.3899297  -0.103\n",
       "source.titleperspectives in education       0.2704278  0.1804741   1.498\n",
       "                                           Pr(>|z|)    \n",
       "(Intercept)                                 < 2e-16 ***\n",
       "abstract_length                              0.0576 .  \n",
       "page.count                                   0.0125 *  \n",
       "abstract_ratio                               0.0681 .  \n",
       "no_references                              1.60e-12 ***\n",
       "numkeys                                      0.1299    \n",
       "article_age                                 < 2e-16 ***\n",
       "source.titlecomputers and education        7.49e-06 ***\n",
       "source.titlecomputers in education journal   0.9178    \n",
       "source.titleperspectives in education        0.1340    \n",
       "---\n",
       "Signif. codes:  0 '***' 0.001 '**' 0.01 '*' 0.05 '.' 0.1 ' ' 1\n",
       "\n",
       "(Dispersion parameter for binomial family taken to be 1)\n",
       "\n",
       "    Null deviance: 3570.4  on 2891  degrees of freedom\n",
       "Residual deviance: 3140.9  on 2882  degrees of freedom\n",
       "AIC: 3160.9\n",
       "\n",
       "Number of Fisher Scoring iterations: 4\n"
      ]
     },
     "execution_count": 15,
     "metadata": {},
     "output_type": "execute_result"
    }
   ],
   "source": [
    "logistic_final <- glm(formula = cited.by.positive.scaled ~ abstract_length + page.count + \n",
    "    abstract_ratio + no_references + numkeys + article_age + \n",
    "    source.title, family = binomial(link = \"logit\"), data = pred_data)\n",
    "\n",
    "summary(logistic_final)"
   ]
  },
  {
   "cell_type": "code",
   "execution_count": 8,
   "metadata": {
    "collapsed": false
   },
   "outputs": [
    {
     "ename": "ERROR",
     "evalue": "Error in qqPlot.glm(logistic, main = \"QQ Plot\"): QQ plot for studentized residuals not available for glm\n",
     "output_type": "error",
     "traceback": [
      "Error in qqPlot.glm(logistic, main = \"QQ Plot\"): QQ plot for studentized residuals not available for glm\n"
     ]
    }
   ],
   "source": [
    "require(car,quietly=TRUE)\n",
    "qqPlot(logistic, main=\"QQ Plot\") #qq plot for studentized resid \n",
    "# qqPlot(linear_reg0, main=\"QQ Plot\") #qq plot for studentized resid \n"
   ]
  },
  {
   "cell_type": "markdown",
   "metadata": {},
   "source": [
    "# Outlier Detection"
   ]
  },
  {
   "cell_type": "code",
   "execution_count": 9,
   "metadata": {
    "collapsed": false
   },
   "outputs": [],
   "source": [
    "# require(car,quietly=TRUE)\n",
    "# influenceIndexPlot <- influenceIndexPlot(logistic, id.n=10)\n",
    "# str(influenceIndexPlot)\n",
    "# outlierTest(linear_reg)\n",
    "# data[c(921,922,923),]"
   ]
  },
  {
   "cell_type": "code",
   "execution_count": 10,
   "metadata": {
    "collapsed": false
   },
   "outputs": [],
   "source": [
    "# # Influence Plot \n",
    "# influencePlot(linear_reg,\tid.method=\"identify\", main=\"Influence Plot\", \n",
    "#               sub=\"Circle size is proportial to Cook's Distance\",id.n=10 )"
   ]
  },
  {
   "cell_type": "markdown",
   "metadata": {},
   "source": [
    "# Box-Cox Transformation"
   ]
  },
  {
   "cell_type": "code",
   "execution_count": 8,
   "metadata": {
    "collapsed": false
   },
   "outputs": [
    {
     "ename": "ERROR",
     "evalue": "Error in bc1(out, lambda): First argument must be strictly positive.\n",
     "output_type": "error",
     "traceback": [
      "Error in bc1(out, lambda): First argument must be strictly positive.\n"
     ]
    },
    {
     "name": "stderr",
     "output_type": "stream",
     "text": [
      "Warning message:\n",
      "In model.response(mf, \"numeric\"): using type = \"numeric\" with a factor response will be ignored"
     ]
    },
    {
     "ename": "ERROR",
     "evalue": "Error in bc1(out[, j], lambda[j]): First argument must be strictly positive.\n",
     "output_type": "error",
     "traceback": [
      "Error in bc1(out[, j], lambda[j]): First argument must be strictly positive.\n"
     ]
    }
   ],
   "source": [
    "require(MASS, quietly=TRUE)\n",
    "require(car, quietly=TRUE)\n",
    "\n",
    "boxCox <- boxCox(logistic, lambda = seq(-0.1, 0.1, by=0.1))\n",
    "summary(powerTransform(logistic))\n"
   ]
  },
  {
   "cell_type": "markdown",
   "metadata": {},
   "source": [
    "# Multi-Collinearity"
   ]
  },
  {
   "cell_type": "code",
   "execution_count": 8,
   "metadata": {
    "collapsed": false
   },
   "outputs": [
    {
     "data": {
      "text/html": [
       "<table>\n",
       "<thead><tr><th></th><th scope=col>GVIF</th><th scope=col>Df</th><th scope=col>GVIF^(1/(2*Df))</th></tr></thead>\n",
       "<tbody>\n",
       "\t<tr><th scope=row>abstract_length</th><td>1.146662</td><td>1.000000</td><td>1.070823</td></tr>\n",
       "\t<tr><th scope=row>page.count</th><td>1.257216</td><td>1.000000</td><td>1.121257</td></tr>\n",
       "\t<tr><th scope=row>title_length</th><td>1.056602</td><td>1.000000</td><td>1.027912</td></tr>\n",
       "\t<tr><th scope=row>abstract_ratio</th><td>1.470569</td><td>1.000000</td><td>1.212670</td></tr>\n",
       "\t<tr><th scope=row>no_references</th><td>1.413395</td><td>1.000000</td><td>1.188863</td></tr>\n",
       "\t<tr><th scope=row>no_authors</th><td>1.141774</td><td>1.000000</td><td>1.068538</td></tr>\n",
       "\t<tr><th scope=row>weight_ratio</th><td>1.334634</td><td>1.000000</td><td>1.155264</td></tr>\n",
       "\t<tr><th scope=row>numkeys</th><td>1.249075</td><td>1.000000</td><td>1.117620</td></tr>\n",
       "\t<tr><th scope=row>article_age</th><td>1.446135</td><td>1.000000</td><td>1.202554</td></tr>\n",
       "\t<tr><th scope=row>source.title</th><td>2.265103</td><td>3.000000</td><td>1.145991</td></tr>\n",
       "</tbody>\n",
       "</table>\n"
      ],
      "text/latex": [
       "\\begin{tabular}{r|lll}\n",
       "  & GVIF & Df & GVIF^(1/(2*Df))\\\\\n",
       "\\hline\n",
       "\tabstract_length & 1.146662 & 1.000000 & 1.070823\\\\\n",
       "\tpage.count & 1.257216 & 1.000000 & 1.121257\\\\\n",
       "\ttitle_length & 1.056602 & 1.000000 & 1.027912\\\\\n",
       "\tabstract_ratio & 1.470569 & 1.000000 & 1.212670\\\\\n",
       "\tno_references & 1.413395 & 1.000000 & 1.188863\\\\\n",
       "\tno_authors & 1.141774 & 1.000000 & 1.068538\\\\\n",
       "\tweight_ratio & 1.334634 & 1.000000 & 1.155264\\\\\n",
       "\tnumkeys & 1.249075 & 1.000000 & 1.117620\\\\\n",
       "\tarticle_age & 1.446135 & 1.000000 & 1.202554\\\\\n",
       "\tsource.title & 2.265103 & 3.000000 & 1.145991\\\\\n",
       "\\end{tabular}\n"
      ],
      "text/markdown": [
       "1. 1.14666228183541\n",
       "2. 1.25721649391649\n",
       "3. 1.05660205986155\n",
       "4. 1.47056894911414\n",
       "5. 1.41339541990731\n",
       "6. 1.14177389604707\n",
       "7. 1.33463430193453\n",
       "8. 1.24907509891957\n",
       "9. 1.44613511655101\n",
       "10. 2.26510317509823\n",
       "11. 1\n",
       "12. 1\n",
       "13. 1\n",
       "14. 1\n",
       "15. 1\n",
       "16. 1\n",
       "17. 1\n",
       "18. 1\n",
       "19. 1\n",
       "20. 3\n",
       "21. 1.07082317953778\n",
       "22. 1.12125665835993\n",
       "23. 1.02791150390564\n",
       "24. 1.21267017325988\n",
       "25. 1.18886307870474\n",
       "26. 1.06853820523511\n",
       "27. 1.15526373695989\n",
       "28. 1.11762028387086\n",
       "29. 1.20255358157174\n",
       "30. 1.14599132864465\n",
       "\n",
       "\n"
      ],
      "text/plain": [
       "                    GVIF Df GVIF^(1/(2*Df))\n",
       "abstract_length 1.146662  1        1.070823\n",
       "page.count      1.257216  1        1.121257\n",
       "title_length    1.056602  1        1.027912\n",
       "abstract_ratio  1.470569  1        1.212670\n",
       "no_references   1.413395  1        1.188863\n",
       "no_authors      1.141774  1        1.068538\n",
       "weight_ratio    1.334634  1        1.155264\n",
       "numkeys         1.249075  1        1.117620\n",
       "article_age     1.446135  1        1.202554\n",
       "source.title    2.265103  3        1.145991"
      ]
     },
     "execution_count": 8,
     "metadata": {},
     "output_type": "execute_result"
    },
    {
     "data": {
      "text/html": [
       "<table>\n",
       "<thead><tr><th></th><th scope=col>GVIF</th><th scope=col>Df</th><th scope=col>GVIF^(1/(2*Df))</th></tr></thead>\n",
       "<tbody>\n",
       "\t<tr><th scope=row>abstract_length</th><td>FALSE</td><td>FALSE</td><td>FALSE</td></tr>\n",
       "\t<tr><th scope=row>page.count</th><td>FALSE</td><td>FALSE</td><td>FALSE</td></tr>\n",
       "\t<tr><th scope=row>title_length</th><td>FALSE</td><td>FALSE</td><td>FALSE</td></tr>\n",
       "\t<tr><th scope=row>abstract_ratio</th><td>FALSE</td><td>FALSE</td><td>FALSE</td></tr>\n",
       "\t<tr><th scope=row>no_references</th><td>FALSE</td><td>FALSE</td><td>FALSE</td></tr>\n",
       "\t<tr><th scope=row>no_authors</th><td>FALSE</td><td>FALSE</td><td>FALSE</td></tr>\n",
       "\t<tr><th scope=row>weight_ratio</th><td>FALSE</td><td>FALSE</td><td>FALSE</td></tr>\n",
       "\t<tr><th scope=row>numkeys</th><td>FALSE</td><td>FALSE</td><td>FALSE</td></tr>\n",
       "\t<tr><th scope=row>article_age</th><td>FALSE</td><td>FALSE</td><td>FALSE</td></tr>\n",
       "\t<tr><th scope=row>source.title</th><td>FALSE</td><td>FALSE</td><td>FALSE</td></tr>\n",
       "</tbody>\n",
       "</table>\n"
      ],
      "text/latex": [
       "\\begin{tabular}{r|lll}\n",
       "  & GVIF & Df & GVIF^(1/(2*Df))\\\\\n",
       "\\hline\n",
       "\tabstract_length & FALSE & FALSE & FALSE\\\\\n",
       "\tpage.count & FALSE & FALSE & FALSE\\\\\n",
       "\ttitle_length & FALSE & FALSE & FALSE\\\\\n",
       "\tabstract_ratio & FALSE & FALSE & FALSE\\\\\n",
       "\tno_references & FALSE & FALSE & FALSE\\\\\n",
       "\tno_authors & FALSE & FALSE & FALSE\\\\\n",
       "\tweight_ratio & FALSE & FALSE & FALSE\\\\\n",
       "\tnumkeys & FALSE & FALSE & FALSE\\\\\n",
       "\tarticle_age & FALSE & FALSE & FALSE\\\\\n",
       "\tsource.title & FALSE & FALSE & FALSE\\\\\n",
       "\\end{tabular}\n"
      ],
      "text/markdown": [
       "1. FALSE\n",
       "2. FALSE\n",
       "3. FALSE\n",
       "4. FALSE\n",
       "5. FALSE\n",
       "6. FALSE\n",
       "7. FALSE\n",
       "8. FALSE\n",
       "9. FALSE\n",
       "10. FALSE\n",
       "11. FALSE\n",
       "12. FALSE\n",
       "13. FALSE\n",
       "14. FALSE\n",
       "15. FALSE\n",
       "16. FALSE\n",
       "17. FALSE\n",
       "18. FALSE\n",
       "19. FALSE\n",
       "20. FALSE\n",
       "21. FALSE\n",
       "22. FALSE\n",
       "23. FALSE\n",
       "24. FALSE\n",
       "25. FALSE\n",
       "26. FALSE\n",
       "27. FALSE\n",
       "28. FALSE\n",
       "29. FALSE\n",
       "30. FALSE\n",
       "\n",
       "\n"
      ],
      "text/plain": [
       "                 GVIF    Df GVIF^(1/(2*Df))\n",
       "abstract_length FALSE FALSE           FALSE\n",
       "page.count      FALSE FALSE           FALSE\n",
       "title_length    FALSE FALSE           FALSE\n",
       "abstract_ratio  FALSE FALSE           FALSE\n",
       "no_references   FALSE FALSE           FALSE\n",
       "no_authors      FALSE FALSE           FALSE\n",
       "weight_ratio    FALSE FALSE           FALSE\n",
       "numkeys         FALSE FALSE           FALSE\n",
       "article_age     FALSE FALSE           FALSE\n",
       "source.title    FALSE FALSE           FALSE"
      ]
     },
     "execution_count": 8,
     "metadata": {},
     "output_type": "execute_result"
    }
   ],
   "source": [
    "require(car,quietly=TRUE)\n",
    "# Evaluate Collinearity\n",
    "\n",
    "vif(logistic) # variance inflation factors \n",
    "# ??vif\n",
    "sqrt(vif(logistic)) > 2 # problem?\n",
    "##---------------------------------------------\n"
   ]
  },
  {
   "cell_type": "code",
   "execution_count": 11,
   "metadata": {
    "collapsed": false
   },
   "outputs": [],
   "source": [
    "# hist(log(data$cited.by+0.5))"
   ]
  },
  {
   "cell_type": "code",
   "execution_count": 9,
   "metadata": {
    "collapsed": true
   },
   "outputs": [],
   "source": [
    "save.image()"
   ]
  }
 ],
 "metadata": {
  "kernelspec": {
   "display_name": "R",
   "language": "R",
   "name": "ir"
  },
  "language_info": {
   "codemirror_mode": "r",
   "file_extension": ".r",
   "mimetype": "text/x-r-source",
   "name": "R",
   "pygments_lexer": "r",
   "version": "3.1.3"
  }
 },
 "nbformat": 4,
 "nbformat_minor": 0
}
