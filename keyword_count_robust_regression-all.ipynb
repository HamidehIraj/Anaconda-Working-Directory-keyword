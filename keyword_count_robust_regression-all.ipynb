{
 "cells": [
  {
   "cell_type": "code",
   "execution_count": 2,
   "metadata": {
    "collapsed": false
   },
   "outputs": [
    {
     "data": {
      "text/html": [
       "<ol class=list-inline>\n",
       "\t<li>346</li>\n",
       "\t<li>61</li>\n",
       "</ol>\n"
      ],
      "text/latex": [
       "\\begin{enumerate*}\n",
       "\\item 346\n",
       "\\item 61\n",
       "\\end{enumerate*}\n"
      ],
      "text/markdown": [
       "1. 346\n",
       "2. 61\n",
       "\n",
       "\n"
      ],
      "text/plain": [
       "[1] 346  61"
      ]
     },
     "execution_count": 2,
     "metadata": {},
     "output_type": "execute_result"
    }
   ],
   "source": [
    "data <- read.csv(\"D:/Research 2014-2015/Data Quality/keyword/Keyword/data.csv\")\n",
    "data <- data[data$document.type==\"article\",]\n",
    "\n",
    "\n",
    "\n",
    "dim(data)"
   ]
  },
  {
   "cell_type": "code",
   "execution_count": 3,
   "metadata": {
    "collapsed": false
   },
   "outputs": [
    {
     "data": {
      "text/html": [
       "<ol class=list-inline>\n",
       "\t<li>\"X\"</li>\n",
       "\t<li>\"ï..authors\"</li>\n",
       "\t<li>\"title\"</li>\n",
       "\t<li>\"year\"</li>\n",
       "\t<li>\"source.title\"</li>\n",
       "\t<li>\"volume\"</li>\n",
       "\t<li>\"issue\"</li>\n",
       "\t<li>\"art..no.\"</li>\n",
       "\t<li>\"page.start\"</li>\n",
       "\t<li>\"page.end\"</li>\n",
       "\t<li>\"page.count\"</li>\n",
       "\t<li>\"cited.by\"</li>\n",
       "\t<li>\"link\"</li>\n",
       "\t<li>\"affiliations\"</li>\n",
       "\t<li>\"authors.with.affiliations\"</li>\n",
       "\t<li>\"abstract\"</li>\n",
       "\t<li>\"author.keywords\"</li>\n",
       "\t<li>\"index.keywords\"</li>\n",
       "\t<li>\"references\"</li>\n",
       "\t<li>\"publisher\"</li>\n",
       "\t<li>\"issn\"</li>\n",
       "\t<li>\"isbn\"</li>\n",
       "\t<li>\"coden\"</li>\n",
       "\t<li>\"language.of.original.document\"</li>\n",
       "\t<li>\"document.type\"</li>\n",
       "\t<li>\"source\"</li>\n",
       "\t<li>\"numkeys\"</li>\n",
       "\t<li>\"k01\"</li>\n",
       "\t<li>\"k01_abstract\"</li>\n",
       "\t<li>\"k01_title\"</li>\n",
       "\t<li>\"k02\"</li>\n",
       "\t<li>\"k02_abstract\"</li>\n",
       "\t<li>\"k02_title\"</li>\n",
       "\t<li>\"k03\"</li>\n",
       "\t<li>\"k03_abstract\"</li>\n",
       "\t<li>\"k03_title\"</li>\n",
       "\t<li>\"k04\"</li>\n",
       "\t<li>\"k04_abstract\"</li>\n",
       "\t<li>\"k04_title\"</li>\n",
       "\t<li>\"k05\"</li>\n",
       "\t<li>\"k05_abstract\"</li>\n",
       "\t<li>\"k05_title\"</li>\n",
       "\t<li>\"k06\"</li>\n",
       "\t<li>\"k06_abstract\"</li>\n",
       "\t<li>\"k06_title\"</li>\n",
       "\t<li>\"k07\"</li>\n",
       "\t<li>\"k07_abstract\"</li>\n",
       "\t<li>\"k07_title\"</li>\n",
       "\t<li>\"abstract_sum\"</li>\n",
       "\t<li>\"title_sum\"</li>\n",
       "\t<li>\"abstract_title_sum\"</li>\n",
       "\t<li>\"no_authors\"</li>\n",
       "\t<li>\"article_age\"</li>\n",
       "\t<li>\"article_squaredage\"</li>\n",
       "\t<li>\"abstract_length\"</li>\n",
       "\t<li>\"title_length\"</li>\n",
       "\t<li>\"no_pages\"</li>\n",
       "\t<li>\"no_references\"</li>\n",
       "\t<li>\"review\"</li>\n",
       "\t<li>\"title_ratio\"</li>\n",
       "\t<li>\"abstract_ratio\"</li>\n",
       "</ol>\n"
      ],
      "text/latex": [
       "\\begin{enumerate*}\n",
       "\\item \"X\"\n",
       "\\item \"ï..authors\"\n",
       "\\item \"title\"\n",
       "\\item \"year\"\n",
       "\\item \"source.title\"\n",
       "\\item \"volume\"\n",
       "\\item \"issue\"\n",
       "\\item \"art..no.\"\n",
       "\\item \"page.start\"\n",
       "\\item \"page.end\"\n",
       "\\item \"page.count\"\n",
       "\\item \"cited.by\"\n",
       "\\item \"link\"\n",
       "\\item \"affiliations\"\n",
       "\\item \"authors.with.affiliations\"\n",
       "\\item \"abstract\"\n",
       "\\item \"author.keywords\"\n",
       "\\item \"index.keywords\"\n",
       "\\item \"references\"\n",
       "\\item \"publisher\"\n",
       "\\item \"issn\"\n",
       "\\item \"isbn\"\n",
       "\\item \"coden\"\n",
       "\\item \"language.of.original.document\"\n",
       "\\item \"document.type\"\n",
       "\\item \"source\"\n",
       "\\item \"numkeys\"\n",
       "\\item \"k01\"\n",
       "\\item \"k01_abstract\"\n",
       "\\item \"k01_title\"\n",
       "\\item \"k02\"\n",
       "\\item \"k02_abstract\"\n",
       "\\item \"k02_title\"\n",
       "\\item \"k03\"\n",
       "\\item \"k03_abstract\"\n",
       "\\item \"k03_title\"\n",
       "\\item \"k04\"\n",
       "\\item \"k04_abstract\"\n",
       "\\item \"k04_title\"\n",
       "\\item \"k05\"\n",
       "\\item \"k05_abstract\"\n",
       "\\item \"k05_title\"\n",
       "\\item \"k06\"\n",
       "\\item \"k06_abstract\"\n",
       "\\item \"k06_title\"\n",
       "\\item \"k07\"\n",
       "\\item \"k07_abstract\"\n",
       "\\item \"k07_title\"\n",
       "\\item \"abstract_sum\"\n",
       "\\item \"title_sum\"\n",
       "\\item \"abstract_title_sum\"\n",
       "\\item \"no_authors\"\n",
       "\\item \"article_age\"\n",
       "\\item \"article_squaredage\"\n",
       "\\item \"abstract_length\"\n",
       "\\item \"title_length\"\n",
       "\\item \"no_pages\"\n",
       "\\item \"no_references\"\n",
       "\\item \"review\"\n",
       "\\item \"title_ratio\"\n",
       "\\item \"abstract_ratio\"\n",
       "\\end{enumerate*}\n"
      ],
      "text/markdown": [
       "1. \"X\"\n",
       "2. \"ï..authors\"\n",
       "3. \"title\"\n",
       "4. \"year\"\n",
       "5. \"source.title\"\n",
       "6. \"volume\"\n",
       "7. \"issue\"\n",
       "8. \"art..no.\"\n",
       "9. \"page.start\"\n",
       "10. \"page.end\"\n",
       "11. \"page.count\"\n",
       "12. \"cited.by\"\n",
       "13. \"link\"\n",
       "14. \"affiliations\"\n",
       "15. \"authors.with.affiliations\"\n",
       "16. \"abstract\"\n",
       "17. \"author.keywords\"\n",
       "18. \"index.keywords\"\n",
       "19. \"references\"\n",
       "20. \"publisher\"\n",
       "21. \"issn\"\n",
       "22. \"isbn\"\n",
       "23. \"coden\"\n",
       "24. \"language.of.original.document\"\n",
       "25. \"document.type\"\n",
       "26. \"source\"\n",
       "27. \"numkeys\"\n",
       "28. \"k01\"\n",
       "29. \"k01_abstract\"\n",
       "30. \"k01_title\"\n",
       "31. \"k02\"\n",
       "32. \"k02_abstract\"\n",
       "33. \"k02_title\"\n",
       "34. \"k03\"\n",
       "35. \"k03_abstract\"\n",
       "36. \"k03_title\"\n",
       "37. \"k04\"\n",
       "38. \"k04_abstract\"\n",
       "39. \"k04_title\"\n",
       "40. \"k05\"\n",
       "41. \"k05_abstract\"\n",
       "42. \"k05_title\"\n",
       "43. \"k06\"\n",
       "44. \"k06_abstract\"\n",
       "45. \"k06_title\"\n",
       "46. \"k07\"\n",
       "47. \"k07_abstract\"\n",
       "48. \"k07_title\"\n",
       "49. \"abstract_sum\"\n",
       "50. \"title_sum\"\n",
       "51. \"abstract_title_sum\"\n",
       "52. \"no_authors\"\n",
       "53. \"article_age\"\n",
       "54. \"article_squaredage\"\n",
       "55. \"abstract_length\"\n",
       "56. \"title_length\"\n",
       "57. \"no_pages\"\n",
       "58. \"no_references\"\n",
       "59. \"review\"\n",
       "60. \"title_ratio\"\n",
       "61. \"abstract_ratio\"\n",
       "\n",
       "\n"
      ],
      "text/plain": [
       " [1] \"X\"                             \"ï..authors\"                   \n",
       " [3] \"title\"                         \"year\"                         \n",
       " [5] \"source.title\"                  \"volume\"                       \n",
       " [7] \"issue\"                         \"art..no.\"                     \n",
       " [9] \"page.start\"                    \"page.end\"                     \n",
       "[11] \"page.count\"                    \"cited.by\"                     \n",
       "[13] \"link\"                          \"affiliations\"                 \n",
       "[15] \"authors.with.affiliations\"     \"abstract\"                     \n",
       "[17] \"author.keywords\"               \"index.keywords\"               \n",
       "[19] \"references\"                    \"publisher\"                    \n",
       "[21] \"issn\"                          \"isbn\"                         \n",
       "[23] \"coden\"                         \"language.of.original.document\"\n",
       "[25] \"document.type\"                 \"source\"                       \n",
       "[27] \"numkeys\"                       \"k01\"                          \n",
       "[29] \"k01_abstract\"                  \"k01_title\"                    \n",
       "[31] \"k02\"                           \"k02_abstract\"                 \n",
       "[33] \"k02_title\"                     \"k03\"                          \n",
       "[35] \"k03_abstract\"                  \"k03_title\"                    \n",
       "[37] \"k04\"                           \"k04_abstract\"                 \n",
       "[39] \"k04_title\"                     \"k05\"                          \n",
       "[41] \"k05_abstract\"                  \"k05_title\"                    \n",
       "[43] \"k06\"                           \"k06_abstract\"                 \n",
       "[45] \"k06_title\"                     \"k07\"                          \n",
       "[47] \"k07_abstract\"                  \"k07_title\"                    \n",
       "[49] \"abstract_sum\"                  \"title_sum\"                    \n",
       "[51] \"abstract_title_sum\"            \"no_authors\"                   \n",
       "[53] \"article_age\"                   \"article_squaredage\"           \n",
       "[55] \"abstract_length\"               \"title_length\"                 \n",
       "[57] \"no_pages\"                      \"no_references\"                \n",
       "[59] \"review\"                        \"title_ratio\"                  \n",
       "[61] \"abstract_ratio\"               "
      ]
     },
     "execution_count": 3,
     "metadata": {},
     "output_type": "execute_result"
    },
    {
     "name": "stdout",
     "output_type": "stream",
     "text": [
      "'data.frame':\t346 obs. of  8 variables:\n",
      " $ no_authors     : int  3 3 6 4 3 3 3 2 2 4 ...\n",
      " $ article_age    : int  1 1 1 1 1 1 1 1 1 1 ...\n",
      " $ page.count     : int  14 13 18 14 9 14 10 13 16 15 ...\n",
      " $ no_references  : int  43 62 97 74 40 36 30 42 44 62 ...\n",
      " $ abstract_length: int  146 221 154 219 135 192 224 196 261 197 ...\n",
      " $ title_length   : int  12 13 12 14 10 21 14 11 10 12 ...\n",
      " $ abstract_ratio : num  0 0.0498 0.039 0 0.0296 ...\n",
      " $ cited.by       : int  0 0 0 0 1 0 0 0 0 0 ...\n"
     ]
    }
   ],
   "source": [
    "predictors <- c(\"no_authors\",\"article_age\",\"page.count\",\"no_references\",\n",
    "                \"abstract_length\",\"title_length\",\n",
    "                \"abstract_ratio\"\n",
    "               )\n",
    "\n",
    "## title_length\n",
    "## no of keywords\n",
    "names(data)\n",
    "\n",
    "target <- c(\"cited.by\")\n",
    "\n",
    "data <- data[,c(predictors,target)]\n",
    "data <- na.omit(data)\n",
    "\n",
    "str(data)"
   ]
  },
  {
   "cell_type": "markdown",
   "metadata": {},
   "source": [
    "# Linear Regression"
   ]
  },
  {
   "cell_type": "code",
   "execution_count": 4,
   "metadata": {
    "collapsed": false
   },
   "outputs": [
    {
     "data": {
      "text/html": [
       "<ol class=list-inline>\n",
       "\t<li>346</li>\n",
       "\t<li>8</li>\n",
       "</ol>\n"
      ],
      "text/latex": [
       "\\begin{enumerate*}\n",
       "\\item 346\n",
       "\\item 8\n",
       "\\end{enumerate*}\n"
      ],
      "text/markdown": [
       "1. 346\n",
       "2. 8\n",
       "\n",
       "\n"
      ],
      "text/plain": [
       "[1] 346   8"
      ]
     },
     "execution_count": 4,
     "metadata": {},
     "output_type": "execute_result"
    },
    {
     "data": {
      "text/plain": [
       "\n",
       "Call:\n",
       "lm(formula = cited.by ~ ., data = data)\n",
       "\n",
       "Residuals:\n",
       "    Min      1Q  Median      3Q     Max \n",
       "-4.6457 -1.3313 -0.6183  0.6484 18.4791 \n",
       "\n",
       "Coefficients:\n",
       "                 Estimate Std. Error t value Pr(>|t|)    \n",
       "(Intercept)     -1.106943   1.027461  -1.077   0.2821    \n",
       "no_authors       0.101809   0.095280   1.069   0.2860    \n",
       "article_age      3.340066   0.334235   9.993   <2e-16 ***\n",
       "page.count       0.032628   0.051025   0.639   0.5230    \n",
       "no_references   -0.003979   0.007258  -0.548   0.5839    \n",
       "abstract_length -0.007621   0.003035  -2.511   0.0125 *  \n",
       "title_length    -0.008152   0.035858  -0.227   0.8203    \n",
       "abstract_ratio  -5.383265   6.782610  -0.794   0.4279    \n",
       "---\n",
       "Signif. codes:  0 '***' 0.001 '**' 0.01 '*' 0.05 '.' 0.1 ' ' 1\n",
       "\n",
       "Residual standard error: 2.927 on 338 degrees of freedom\n",
       "Multiple R-squared:  0.2394,\tAdjusted R-squared:  0.2236 \n",
       "F-statistic:  15.2 on 7 and 338 DF,  p-value: < 2.2e-16\n"
      ]
     },
     "execution_count": 4,
     "metadata": {},
     "output_type": "execute_result"
    }
   ],
   "source": [
    "dim(data)\n",
    "linear_reg <- lm(cited.by ~ . , data=data)\n",
    "summary(linear_reg)"
   ]
  },
  {
   "cell_type": "markdown",
   "metadata": {},
   "source": [
    "# Robust Regression"
   ]
  },
  {
   "cell_type": "code",
   "execution_count": 5,
   "metadata": {
    "collapsed": false
   },
   "outputs": [
    {
     "data": {
      "text/plain": [
       "\n",
       "Call: rlm(formula = cited.by ~ ., data = data)\n",
       "Residuals:\n",
       "    Min      1Q  Median      3Q     Max \n",
       "-3.2689 -0.7993 -0.4599  1.1538 19.8011 \n",
       "\n",
       "Coefficients:\n",
       "                Value   Std. Error t value\n",
       "(Intercept)     -1.3519  0.5170    -2.6148\n",
       "no_authors       0.0524  0.0479     1.0927\n",
       "article_age      2.4332  0.1682    14.4670\n",
       "page.count       0.0089  0.0257     0.3449\n",
       "no_references    0.0001  0.0037     0.0366\n",
       "abstract_length -0.0026  0.0015    -1.7135\n",
       "title_length    -0.0064  0.0180    -0.3559\n",
       "abstract_ratio  -1.8860  3.4131    -0.5526\n",
       "\n",
       "Residual standard error: 1.244 on 338 degrees of freedom"
      ]
     },
     "execution_count": 5,
     "metadata": {},
     "output_type": "execute_result"
    }
   ],
   "source": [
    "## compute the Huber M -estimator for the regression model, using the\n",
    "## rlm (robust linear model) function in the MASS package\n",
    "\n",
    "require(MASS,quietly=TRUE)\n",
    "robust_reg <- rlm(cited.by ~ . , data=data)\n",
    "summary(robust_reg)"
   ]
  },
  {
   "cell_type": "code",
   "execution_count": 6,
   "metadata": {
    "collapsed": false
   },
   "outputs": [
    {
     "data": {
      "text/html": [
       "78"
      ],
      "text/latex": [
       "78"
      ],
      "text/markdown": [
       "78"
      ],
      "text/plain": [
       "[1] 78"
      ]
     },
     "execution_count": 6,
     "metadata": {},
     "output_type": "execute_result"
    },
    {
     "data": {
      "application/pdf": "[encoded data removed]",
      "image/jpeg": "[encoded data removed]",
      "image/png": "[encoded data removed]",
      "text/plain": [
       "plot without title"
      ]
     },
     "metadata": {
      "image/svg+xml": {
       "isolated": true
      }
     },
     "output_type": "display_data"
    }
   ],
   "source": [
    "plot(robust_reg$w, ylab=\"Huber Weight\")\n",
    "smallweights <- which(robust_reg$w < 0.8)\n",
    "length(smallweights)\n"
   ]
  },
  {
   "cell_type": "code",
   "execution_count": 11,
   "metadata": {
    "collapsed": false
   },
   "outputs": [
    {
     "name": "stdout",
     "output_type": "stream",
     "text": [
      "   Min. 1st Qu.  Median    Mean 3rd Qu.    Max. \n",
      "  0.000   1.000   6.000   5.949   9.000  23.000 \n"
     ]
    },
    {
     "data": {
      "text/html": [
       "<ol class=list-inline>\n",
       "\t<li>4</li>\n",
       "\t<li>0</li>\n",
       "\t<li>0</li>\n",
       "\t<li>1</li>\n",
       "\t<li>3</li>\n",
       "\t<li>5</li>\n",
       "\t<li>15</li>\n",
       "\t<li>4</li>\n",
       "\t<li>16</li>\n",
       "\t<li>9</li>\n",
       "\t<li>3</li>\n",
       "\t<li>3</li>\n",
       "\t<li>3</li>\n",
       "\t<li>4</li>\n",
       "\t<li>6</li>\n",
       "\t<li>12</li>\n",
       "\t<li>10</li>\n",
       "\t<li>3</li>\n",
       "\t<li>3</li>\n",
       "\t<li>3</li>\n",
       "\t<li>3</li>\n",
       "\t<li>4</li>\n",
       "\t<li>3</li>\n",
       "\t<li>3</li>\n",
       "\t<li>3</li>\n",
       "\t<li>0</li>\n",
       "\t<li>1</li>\n",
       "\t<li>6</li>\n",
       "\t<li>8</li>\n",
       "\t<li>16</li>\n",
       "\t<li>1</li>\n",
       "\t<li>6</li>\n",
       "\t<li>0</li>\n",
       "\t<li>17</li>\n",
       "\t<li>7</li>\n",
       "\t<li>11</li>\n",
       "\t<li>23</li>\n",
       "\t<li>10</li>\n",
       "\t<li>6</li>\n",
       "\t<li>8</li>\n",
       "\t<li>15</li>\n",
       "\t<li>6</li>\n",
       "\t<li>8</li>\n",
       "\t<li>0</li>\n",
       "\t<li>13</li>\n",
       "\t<li>6</li>\n",
       "\t<li>7</li>\n",
       "\t<li>8</li>\n",
       "\t<li>7</li>\n",
       "\t<li>0</li>\n",
       "\t<li>12</li>\n",
       "\t<li>6</li>\n",
       "\t<li>6</li>\n",
       "\t<li>7</li>\n",
       "\t<li>0</li>\n",
       "\t<li>9</li>\n",
       "\t<li>7</li>\n",
       "\t<li>7</li>\n",
       "\t<li>9</li>\n",
       "\t<li>7</li>\n",
       "\t<li>10</li>\n",
       "\t<li>1</li>\n",
       "\t<li>9</li>\n",
       "\t<li>16</li>\n",
       "\t<li>0</li>\n",
       "\t<li>9</li>\n",
       "\t<li>1</li>\n",
       "\t<li>0</li>\n",
       "\t<li>13</li>\n",
       "\t<li>1</li>\n",
       "\t<li>1</li>\n",
       "\t<li>0</li>\n",
       "\t<li>1</li>\n",
       "\t<li>6</li>\n",
       "\t<li>10</li>\n",
       "\t<li>1</li>\n",
       "\t<li>1</li>\n",
       "\t<li>1</li>\n",
       "</ol>\n"
      ],
      "text/latex": [
       "\\begin{enumerate*}\n",
       "\\item 4\n",
       "\\item 0\n",
       "\\item 0\n",
       "\\item 1\n",
       "\\item 3\n",
       "\\item 5\n",
       "\\item 15\n",
       "\\item 4\n",
       "\\item 16\n",
       "\\item 9\n",
       "\\item 3\n",
       "\\item 3\n",
       "\\item 3\n",
       "\\item 4\n",
       "\\item 6\n",
       "\\item 12\n",
       "\\item 10\n",
       "\\item 3\n",
       "\\item 3\n",
       "\\item 3\n",
       "\\item 3\n",
       "\\item 4\n",
       "\\item 3\n",
       "\\item 3\n",
       "\\item 3\n",
       "\\item 0\n",
       "\\item 1\n",
       "\\item 6\n",
       "\\item 8\n",
       "\\item 16\n",
       "\\item 1\n",
       "\\item 6\n",
       "\\item 0\n",
       "\\item 17\n",
       "\\item 7\n",
       "\\item 11\n",
       "\\item 23\n",
       "\\item 10\n",
       "\\item 6\n",
       "\\item 8\n",
       "\\item 15\n",
       "\\item 6\n",
       "\\item 8\n",
       "\\item 0\n",
       "\\item 13\n",
       "\\item 6\n",
       "\\item 7\n",
       "\\item 8\n",
       "\\item 7\n",
       "\\item 0\n",
       "\\item 12\n",
       "\\item 6\n",
       "\\item 6\n",
       "\\item 7\n",
       "\\item 0\n",
       "\\item 9\n",
       "\\item 7\n",
       "\\item 7\n",
       "\\item 9\n",
       "\\item 7\n",
       "\\item 10\n",
       "\\item 1\n",
       "\\item 9\n",
       "\\item 16\n",
       "\\item 0\n",
       "\\item 9\n",
       "\\item 1\n",
       "\\item 0\n",
       "\\item 13\n",
       "\\item 1\n",
       "\\item 1\n",
       "\\item 0\n",
       "\\item 1\n",
       "\\item 6\n",
       "\\item 10\n",
       "\\item 1\n",
       "\\item 1\n",
       "\\item 1\n",
       "\\end{enumerate*}\n"
      ],
      "text/markdown": [
       "1. 4\n",
       "2. 0\n",
       "3. 0\n",
       "4. 1\n",
       "5. 3\n",
       "6. 5\n",
       "7. 15\n",
       "8. 4\n",
       "9. 16\n",
       "10. 9\n",
       "11. 3\n",
       "12. 3\n",
       "13. 3\n",
       "14. 4\n",
       "15. 6\n",
       "16. 12\n",
       "17. 10\n",
       "18. 3\n",
       "19. 3\n",
       "20. 3\n",
       "21. 3\n",
       "22. 4\n",
       "23. 3\n",
       "24. 3\n",
       "25. 3\n",
       "26. 0\n",
       "27. 1\n",
       "28. 6\n",
       "29. 8\n",
       "30. 16\n",
       "31. 1\n",
       "32. 6\n",
       "33. 0\n",
       "34. 17\n",
       "35. 7\n",
       "36. 11\n",
       "37. 23\n",
       "38. 10\n",
       "39. 6\n",
       "40. 8\n",
       "41. 15\n",
       "42. 6\n",
       "43. 8\n",
       "44. 0\n",
       "45. 13\n",
       "46. 6\n",
       "47. 7\n",
       "48. 8\n",
       "49. 7\n",
       "50. 0\n",
       "51. 12\n",
       "52. 6\n",
       "53. 6\n",
       "54. 7\n",
       "55. 0\n",
       "56. 9\n",
       "57. 7\n",
       "58. 7\n",
       "59. 9\n",
       "60. 7\n",
       "61. 10\n",
       "62. 1\n",
       "63. 9\n",
       "64. 16\n",
       "65. 0\n",
       "66. 9\n",
       "67. 1\n",
       "68. 0\n",
       "69. 13\n",
       "70. 1\n",
       "71. 1\n",
       "72. 0\n",
       "73. 1\n",
       "74. 6\n",
       "75. 10\n",
       "76. 1\n",
       "77. 1\n",
       "78. 1\n",
       "\n",
       "\n"
      ],
      "text/plain": [
       " [1]  4  0  0  1  3  5 15  4 16  9  3  3  3  4  6 12 10  3  3  3  3  4  3  3  3\n",
       "[26]  0  1  6  8 16  1  6  0 17  7 11 23 10  6  8 15  6  8  0 13  6  7  8  7  0\n",
       "[51] 12  6  6  7  0  9  7  7  9  7 10  1  9 16  0  9  1  0 13  1  1  0  1  6 10\n",
       "[76]  1  1  1"
      ]
     },
     "execution_count": 11,
     "metadata": {},
     "output_type": "execute_result"
    }
   ],
   "source": [
    "print(summary(data[smallweights,\"cited.by\"]))\n",
    "data[smallweights,\"cited.by\"]"
   ]
  },
  {
   "cell_type": "markdown",
   "metadata": {},
   "source": [
    "# Modified Linear Regression"
   ]
  },
  {
   "cell_type": "code",
   "execution_count": 20,
   "metadata": {
    "collapsed": false
   },
   "outputs": [
    {
     "data": {
      "text/html": [
       "<ol class=list-inline>\n",
       "\t<li>268</li>\n",
       "\t<li>8</li>\n",
       "</ol>\n"
      ],
      "text/latex": [
       "\\begin{enumerate*}\n",
       "\\item 268\n",
       "\\item 8\n",
       "\\end{enumerate*}\n"
      ],
      "text/markdown": [
       "1. 268\n",
       "2. 8\n",
       "\n",
       "\n"
      ],
      "text/plain": [
       "[1] 268   8"
      ]
     },
     "execution_count": 20,
     "metadata": {},
     "output_type": "execute_result"
    },
    {
     "data": {
      "text/plain": [
       "\n",
       "Call:\n",
       "lm(formula = cited.by ~ ., data = data2)\n",
       "\n",
       "Residuals:\n",
       "    Min      1Q  Median      3Q     Max \n",
       "-1.7612 -0.5797 -0.4576  0.4619  2.2996 \n",
       "\n",
       "Coefficients:\n",
       "                  Estimate Std. Error t value Pr(>|t|)    \n",
       "(Intercept)     -1.2870558  0.3383158  -3.804 0.000177 ***\n",
       "no_authors       0.0208890  0.0309853   0.674 0.500809    \n",
       "article_age      2.1945943  0.1210907  18.124  < 2e-16 ***\n",
       "page.count      -0.0056766  0.0161185  -0.352 0.724987    \n",
       "no_references    0.0001219  0.0022699   0.054 0.957207    \n",
       "abstract_length -0.0008814  0.0009565  -0.921 0.357657    \n",
       "title_length    -0.0126151  0.0116395  -1.084 0.279448    \n",
       "abstract_ratio  -0.8224969  2.2292295  -0.369 0.712458    \n",
       "---\n",
       "Signif. codes:  0 '***' 0.001 '**' 0.01 '*' 0.05 '.' 0.1 ' ' 1\n",
       "\n",
       "Residual standard error: 0.8302 on 260 degrees of freedom\n",
       "Multiple R-squared:  0.5652,\tAdjusted R-squared:  0.5535 \n",
       "F-statistic: 48.28 on 7 and 260 DF,  p-value: < 2.2e-16\n"
      ]
     },
     "execution_count": 20,
     "metadata": {},
     "output_type": "execute_result"
    }
   ],
   "source": [
    "data2 <- data[-smallweights,]\n",
    "dim(data2)\n",
    "linear_reg2 <- lm(cited.by ~ . , data=data2)\n",
    "summary(linear_reg2)\n"
   ]
  },
  {
   "cell_type": "code",
   "execution_count": 58,
   "metadata": {
    "collapsed": false
   },
   "outputs": [
    {
     "data": {
      "text/plain": [
       "   Min. 1st Qu.  Median    Mean 3rd Qu.    Max. \n",
       "  0.000   0.000   1.000   1.056   2.000   5.000 "
      ]
     },
     "execution_count": 58,
     "metadata": {},
     "output_type": "execute_result"
    }
   ],
   "source": [
    "## calculating journal median\n",
    "summary(data2$cited.by)\n",
    "#hist(data2$cited.by)"
   ]
  },
  {
   "cell_type": "code",
   "execution_count": 53,
   "metadata": {
    "collapsed": false
   },
   "outputs": [
    {
     "data": {
      "text/html": [
       "<dl class=dl-horizontal>\n",
       "\t<dt>Less than Median</dt>\n",
       "\t\t<dd>202</dd>\n",
       "\t<dt>More than Median</dt>\n",
       "\t\t<dd>144</dd>\n",
       "</dl>\n"
      ],
      "text/latex": [
       "\\begin{description*}\n",
       "\\item[Less than Median] 202\n",
       "\\item[More than Median] 144\n",
       "\\end{description*}\n"
      ],
      "text/markdown": [
       "Less than Median\n",
       ":   202More than Median\n",
       ":   144\n",
       "\n"
      ],
      "text/plain": [
       "Less than Median More than Median \n",
       "             202              144 "
      ]
     },
     "execution_count": 53,
     "metadata": {},
     "output_type": "execute_result"
    }
   ],
   "source": [
    "## creatng a new target\n",
    "data$target_cut <- NA\n",
    "\n",
    "threshold    <- summary(data2$cited.by)[3] ## median=1\n",
    "\n",
    "## print(c(first_threshold,second_threshold,third_threshold))\n",
    "\n",
    "for (row in 1:nrow(data))  {\n",
    "    if (data[row,\"cited.by\"] <= threshold )  {data[row,\"target_cut\"] <- \"Less than Median\"}\n",
    "                    else {data[row,\"target_cut\"] <- \"More than Median\"}\n",
    "    \n",
    "}\n",
    "\n",
    "data$target_cut <- as.factor(data$target_cut)\n",
    "\n",
    "##head(data,n=50)\n",
    "summary(data$target_cut)"
   ]
  },
  {
   "cell_type": "code",
   "execution_count": 57,
   "metadata": {
    "collapsed": false
   },
   "outputs": [
    {
     "data": {
      "text/plain": [
       "\n",
       "Call:\n",
       "glm(formula = target_cut ~ ., family = binomial(link = \"logit\"), \n",
       "    data = data_cut)\n",
       "\n",
       "Deviance Residuals: \n",
       "    Min       1Q   Median       3Q      Max  \n",
       "-1.9765  -0.7279  -0.6262   0.7208   1.9584  \n",
       "\n",
       "Coefficients:\n",
       "                 Estimate Std. Error z value Pr(>|z|)    \n",
       "(Intercept)     -3.854374   0.846147  -4.555 5.23e-06 ***\n",
       "no_authors       0.078624   0.076566   1.027    0.304    \n",
       "article_age      2.584911   0.281602   9.179  < 2e-16 ***\n",
       "page.count       0.014642   0.041361   0.354    0.723    \n",
       "no_references    0.003436   0.005853   0.587    0.557    \n",
       "abstract_length -0.002974   0.002542  -1.170    0.242    \n",
       "title_length    -0.010483   0.029614  -0.354    0.723    \n",
       "abstract_ratio   5.730927   5.547237   1.033    0.302    \n",
       "---\n",
       "Signif. codes:  0 '***' 0.001 '**' 0.01 '*' 0.05 '.' 0.1 ' ' 1\n",
       "\n",
       "(Dispersion parameter for binomial family taken to be 1)\n",
       "\n",
       "    Null deviance: 469.89  on 345  degrees of freedom\n",
       "Residual deviance: 362.31  on 338  degrees of freedom\n",
       "AIC: 378.31\n",
       "\n",
       "Number of Fisher Scoring iterations: 4\n"
      ]
     },
     "execution_count": 57,
     "metadata": {},
     "output_type": "execute_result"
    }
   ],
   "source": [
    "target2 <-c(\"target_cut\")\n",
    "data_cut <- data[,c(predictors,target2)]\n",
    "logistic_reg <- glm(target_cut ~ ., data=data_cut, family=binomial(link='logit') )\n",
    "summary(logistic_reg)"
   ]
  },
  {
   "cell_type": "code",
   "execution_count": 8,
   "metadata": {
    "collapsed": true
   },
   "outputs": [],
   "source": [
    "save.image()"
   ]
  },
  {
   "cell_type": "code",
   "execution_count": null,
   "metadata": {
    "collapsed": true
   },
   "outputs": [],
   "source": []
  }
 ],
 "metadata": {
  "kernelspec": {
   "display_name": "R",
   "language": "R",
   "name": "ir"
  },
  "language_info": {
   "codemirror_mode": "r",
   "file_extension": ".r",
   "mimetype": "text/x-r-source",
   "name": "R",
   "pygments_lexer": "r",
   "version": "3.1.3"
  }
 },
 "nbformat": 4,
 "nbformat_minor": 0
}
